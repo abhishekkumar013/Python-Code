{
 "cells": [
  {
   "cell_type": "markdown",
   "id": "2bd630e0",
   "metadata": {},
   "source": [
    "## Name-Abhishek Kumar\n",
    "## Roll-2105598"
   ]
  },
  {
   "cell_type": "code",
   "execution_count": 1,
   "id": "b363ba38",
   "metadata": {},
   "outputs": [],
   "source": [
    "import numpy as np"
   ]
  },
  {
   "cell_type": "code",
   "execution_count": 2,
   "id": "a6407494",
   "metadata": {},
   "outputs": [
    {
     "name": "stdout",
     "output_type": "stream",
     "text": [
      "['Roll', '2005011', '2005058', '2005076', '2005119', '2005150', '2005161', '2005168', '2005178', '2005179', '2005198', '2005270', '2005278', '2005288', '2005289', '2005312', '2005324', '2005326', '2005332', '2005343', '2005407', '2005439', '2005444', '2005473', '2005521', '2005548', '2005554', '2005574', '2005578', '2005585', '2005590', '2005597', '2005598', '2005601', '2005603', '2005608', '2005628', '2005631', '2005645', '2005704', '2005718', '2005721', '2005849', '2005904', '2005909', '2005929', '2005955', '2005979', '20051001', '20051023', '20051042', '20051049', '20051105', '20051122', '20051143', '20051164', '20051167', '20051174', '20051182', '20051254', '20051329', '20051351', '20051359', '20051362', '20051388', '20051397', '20051420', '20051433', '20051467', '20051473', '20051510', '20051552', '20051562', '20051614', '20051633', '20051805', '20051855', '20051866', '20051868', '20051872', '20051888', '20051903', '20051915', '20051962', '20051981', '21053002', '21053015', '21053022', '21053042', '21053047', '21053066', '21053067']\n",
      "['Score', '4', '5', '3', '4', '5', '3', '4', '4', '5', '3', '4', '5', '4', '3', '4', '5', '4', '3', '4', '5', '3', '4', '5', '4', '3', '4', '5', '4', '5', '3', '4', '4', '5', '4', '4', '3', '3', '9', '5', '4', '5', '4', '3', '4', '5', '3', '4', '5', '4', '3', '4', '4', '3', '3', '4', '4', '4', '5', '5', '5', '4', '4', '4', '3', '4', '4', '5', '4', '4', '3', '3', '3', '4', '4', '5', '4', '4', '3', '3', '4', '3', '5', '4', '4', '3', '4', '4', '4', '5', '4', '4']\n"
     ]
    }
   ],
   "source": [
    "#assigment\n",
    "roll=[]\n",
    "score=[]\n",
    "\n",
    "file=open('data.txt','r')\n",
    "for line in file.readlines():\n",
    "    roll.append(line.split('\\t')[0])\n",
    "    score.append(line.split('\\t')[1].rstrip('\\n'))\n",
    "\n",
    "print(roll)\n",
    "print(score)"
   ]
  },
  {
   "cell_type": "code",
   "execution_count": 3,
   "id": "d563339c",
   "metadata": {},
   "outputs": [
    {
     "name": "stdout",
     "output_type": "stream",
     "text": [
      "Serial numbers of students who got 5 marks: ['2005058' '2005150' '2005179' '2005278' '2005324' '2005407' '2005473'\n",
      " '2005574' '2005585' '2005601' '2005704' '2005721' '2005929' '20051001'\n",
      " '20051182' '20051254' '20051329' '20051433' '20051805' '20051915'\n",
      " '21053047']\n"
     ]
    }
   ],
   "source": [
    "roll_numbers = np.array(roll)\n",
    "marks = np.array(score)\n",
    "\n",
    "# a. Find the serial number of the students who have got 5 marks\n",
    "students_with_5_marks = roll_numbers[marks == '5']\n",
    "print(\"Serial numbers of students who got 5 marks:\", students_with_5_marks)"
   ]
  },
  {
   "cell_type": "code",
   "execution_count": 4,
   "id": "1faa2cac",
   "metadata": {},
   "outputs": [
    {
     "name": "stdout",
     "output_type": "stream",
     "text": [
      "['Roll' '2005011' '2005058' '2005076' '2005119' '2005150' '2005161'\n",
      " '2005168' '2005178' '2005179' '2005198' '2005270' '2005278' '2005288'\n",
      " '2005289' '2005312' '2005324' '2005326' '2005332' '2005343' '2005407'\n",
      " '2005439' '2005444' '2005473' '2005521' '2005548' '2005554' '2005574'\n",
      " '2005578' '2005585' '2005590' '2005597' '2005598' '2005601' '2005603'\n",
      " '2005608' '2005628' '2005631' '2005645' '2005704' '2005718' '2005721'\n",
      " '2005849' '2005904' '2005909' '2005929' '2005955' '2005979' '20051001'\n",
      " '20051023' '20051042' '20051049' '20051105' '20051122' '20051143'\n",
      " '20051164' '20051167' '20051174' '20051182' '20051254' '20051329'\n",
      " '20051351' '20051359' '20051362' '20051388' '20051397' '20051420'\n",
      " '20051433' '20051467' '20051473' '20051510' '20051552' '20051562'\n",
      " '20051614' '20051633' '20051805' '20051855' '20051866' '20051868'\n",
      " '20051872' '20051888' '20051903' '20051915' '20051962' '20051981'\n",
      " '21053002' '21053015' '21053022' '21053042' '21053047' '21053066'\n",
      " '21053067']\n"
     ]
    }
   ],
   "source": [
    "print(roll_numbers)"
   ]
  },
  {
   "cell_type": "code",
   "execution_count": 5,
   "id": "697a5697",
   "metadata": {},
   "outputs": [
    {
     "name": "stdout",
     "output_type": "stream",
     "text": [
      "Roll numbers in interval [2, 4):\n",
      "['2005058' '2005076']\n",
      "\n",
      "Roll numbers in interval [4, 6):\n",
      "['2005119' '2005150']\n",
      "\n",
      "Roll numbers in interval [6, 10):\n",
      "['2005161' '2005168' '2005178' '2005179']\n",
      "\n"
     ]
    }
   ],
   "source": [
    "intervals = [2,4,6,10]\n",
    "\n",
    "for i in range(len(intervals) - 1):\n",
    "    start = intervals[i]\n",
    "    end = intervals[i + 1]\n",
    "    print(\"Roll numbers in interval\", f\"[{start}, {end}):\")\n",
    "    print(roll_numbers[start:end])\n",
    "    print()"
   ]
  },
  {
   "cell_type": "code",
   "execution_count": 7,
   "id": "88fd51bc",
   "metadata": {},
   "outputs": [
    {
     "ename": "NameError",
     "evalue": "name 'serial_numbers' is not defined",
     "output_type": "error",
     "traceback": [
      "\u001b[1;31m---------------------------------------------------------------------------\u001b[0m",
      "\u001b[1;31mNameError\u001b[0m                                 Traceback (most recent call last)",
      "Cell \u001b[1;32mIn[7], line 2\u001b[0m\n\u001b[0;32m      1\u001b[0m max_mark_index \u001b[38;5;241m=\u001b[39m np\u001b[38;5;241m.\u001b[39margmax(marks)\n\u001b[1;32m----> 2\u001b[0m max_serial_number \u001b[38;5;241m=\u001b[39m \u001b[43mserial_numbers\u001b[49m[max_mark_index]\n\u001b[0;32m      3\u001b[0m max_roll_number \u001b[38;5;241m=\u001b[39m roll_numbers[max_mark_index]\n\u001b[0;32m      4\u001b[0m \u001b[38;5;28mprint\u001b[39m(\u001b[38;5;124m\"\u001b[39m\u001b[38;5;124mStudent with maximum marks:\u001b[39m\u001b[38;5;124m\"\u001b[39m)\n",
      "\u001b[1;31mNameError\u001b[0m: name 'serial_numbers' is not defined"
     ]
    }
   ],
   "source": [
    "max_mark_index = np.argmax(marks)\n",
    "max_serial_number = serial_numbers[max_mark_index]\n",
    "max_roll_number = roll_numbers[max_mark_index]\n",
    "print(\"Student with maximum marks:\")\n",
    "print(\"Serial number:\", max_serial_number)\n",
    "print(\"Roll number:\", max_roll_number)"
   ]
  },
  {
   "cell_type": "code",
   "execution_count": 8,
   "id": "fc6f3a9e",
   "metadata": {},
   "outputs": [
    {
     "name": "stdout",
     "output_type": "stream",
     "text": [
      "Arange array:\n",
      "[0 1 2 3 4 5 6 7 8 9]\n",
      "\n",
      "Arange array with step:\n",
      "[ 2  4  6  8 10]\n"
     ]
    }
   ],
   "source": [
    "arange_array = np.arange(10)\n",
    "\n",
    "arange_array_step = np.arange(2, 11, 2)\n",
    "\n",
    "print(\"Arange array:\")\n",
    "print(arange_array)\n",
    "print(\"\\nArange array with step:\")\n",
    "print(arange_array_step)"
   ]
  },
  {
   "cell_type": "code",
   "execution_count": null,
   "id": "3062fc09",
   "metadata": {},
   "outputs": [],
   "source": []
  }
 ],
 "metadata": {
  "kernelspec": {
   "display_name": "Python 3 (ipykernel)",
   "language": "python",
   "name": "python3"
  },
  "language_info": {
   "codemirror_mode": {
    "name": "ipython",
    "version": 3
   },
   "file_extension": ".py",
   "mimetype": "text/x-python",
   "name": "python",
   "nbconvert_exporter": "python",
   "pygments_lexer": "ipython3",
   "version": "3.10.13"
  }
 },
 "nbformat": 4,
 "nbformat_minor": 5
}
