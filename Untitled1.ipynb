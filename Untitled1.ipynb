{
 "cells": [
  {
   "cell_type": "markdown",
   "id": "00df435a",
   "metadata": {},
   "source": [
    "#### Q1.Write a python program to create a class called Calculator and define four methods to perform basic mathematical operations (addition, subtraction, multiplication, and division). Pass the variable as arguments by using constructor."
   ]
  },
  {
   "cell_type": "code",
   "execution_count": 2,
   "id": "3ec9fa88",
   "metadata": {},
   "outputs": [
    {
     "name": "stdout",
     "output_type": "stream",
     "text": [
      "5\n",
      "6\n",
      "0.6666666666666666\n"
     ]
    }
   ],
   "source": [
    "class Calculator:\n",
    "    def __init__(self,n1,n2):\n",
    "        self.n1=n1\n",
    "        self.n2=n2\n",
    "    def add(self):\n",
    "        return self.n1+self.n2\n",
    "    def sub(self):\n",
    "        return self.n1-self.n2\n",
    "    def mul(self):\n",
    "        return self.n1*self.n2\n",
    "    def div(self):\n",
    "        return self.n1/self.n2\n",
    "    \n",
    "ob1=Calculator(2,3)\n",
    "print(ob1.add())\n",
    "print(ob1.mul())\n",
    "print(ob1.div())"
   ]
  },
  {
   "cell_type": "markdown",
   "id": "ffd2843c",
   "metadata": {},
   "source": [
    "#### Define a base class, e.g., Vehicle, with attributes such as make, model, and year."
   ]
  },
  {
   "cell_type": "code",
   "execution_count": 4,
   "id": "408b144c",
   "metadata": {},
   "outputs": [],
   "source": [
    "class Vehicle:\n",
    "    id = 0\n",
    "    def __init__(self, make, model, year):\n",
    "        print(\"Parent Created\")\n",
    "        self.make = make\n",
    "        self.model = model\n",
    "        self.year = year\n",
    "        self.id += 1\n",
    "    def display(self):\n",
    "        print(\"From base class\")\n",
    "        return (self.make,self.model,self.year, id)\n",
    "    def __add__(self, other):\n",
    "        self.make = self.make + other.make\n",
    "        self.model = self.model + other.model"
   ]
  },
  {
   "cell_type": "code",
   "execution_count": 5,
   "id": "b7630f61",
   "metadata": {},
   "outputs": [
    {
     "name": "stdout",
     "output_type": "stream",
     "text": [
      "Parent Created\n",
      "Parent Created\n"
     ]
    }
   ],
   "source": [
    "#Q2b create instances of the class vehicle\n",
    "v1 = Vehicle(\"Ford\", \"Truck\", 2002)\n",
    "v2 = Vehicle(\"Suzuki\", \"Car\", 2010)"
   ]
  },
  {
   "cell_type": "code",
   "execution_count": 6,
   "id": "e9ab1f7f",
   "metadata": {},
   "outputs": [
    {
     "name": "stdout",
     "output_type": "stream",
     "text": [
      "From base class\n",
      "From base class\n"
     ]
    },
    {
     "data": {
      "text/plain": [
       "('Suzuki', 'Car', 2010, <function id(obj, /)>)"
      ]
     },
     "execution_count": 6,
     "metadata": {},
     "output_type": "execute_result"
    }
   ],
   "source": [
    "#Q2c Display details for each instance\n",
    "v1.display()\n",
    "v2.display()"
   ]
  },
  {
   "cell_type": "code",
   "execution_count": 7,
   "id": "d740b9c0",
   "metadata": {},
   "outputs": [
    {
     "name": "stdout",
     "output_type": "stream",
     "text": [
      "Parent Created\n",
      "Parent Created\n"
     ]
    }
   ],
   "source": [
    "#Q2d Combine make and model of two instances using operator overloading\n",
    "v3 = Vehicle(\"Tata\", \"SUV\", 2005)\n",
    "v4 = Vehicle(\"Nissan\", \"Car\", 2014)\n",
    "v3+v4"
   ]
  },
  {
   "cell_type": "code",
   "execution_count": 8,
   "id": "ff1d9d50",
   "metadata": {},
   "outputs": [
    {
     "name": "stdout",
     "output_type": "stream",
     "text": [
      "From base class\n",
      "From base class\n"
     ]
    },
    {
     "data": {
      "text/plain": [
       "('Nissan', 'Car', 2014, <function id(obj, /)>)"
      ]
     },
     "execution_count": 8,
     "metadata": {},
     "output_type": "execute_result"
    }
   ],
   "source": [
    "#Q2e Display result of overloading\n",
    "v3.display()\n",
    "v4.display()"
   ]
  },
  {
   "cell_type": "code",
   "execution_count": 12,
   "id": "5fbbab2d",
   "metadata": {},
   "outputs": [],
   "source": [
    "#Q2f,g Derive Car class from Vehicle class and add attributes like num_doors␣ ↪and fuel_type\n",
    "class Car(Vehicle):\n",
    "    def __init__(self, make, model, year, doors, fuel):\n",
    "        super().__init__(make, model, year)\n",
    "        print(\"Child Created\")\n",
    "        self.num_doors = doors\n",
    "        self.fuel_type = fuel\n",
    "    def displayAdd(self):\n",
    "        make,model,year=self.display()\n",
    "        print(\"From Child Class\")\n",
    "        return make,model,year,self.num_doors,self.fuel_type"
   ]
  },
  {
   "cell_type": "code",
   "execution_count": 13,
   "id": "bbd05ab1",
   "metadata": {},
   "outputs": [
    {
     "name": "stdout",
     "output_type": "stream",
     "text": [
      "Parent Created\n",
      "Parent Created\n",
      "Parent Created\n",
      "Child Created\n",
      "Parent Created\n",
      "Child Created\n"
     ]
    }
   ],
   "source": [
    "#Q2h Make objects of both classes\n",
    "veh1 = Vehicle(\"Nissan\", \"Supra\", 2003)\n",
    "veh2 = Vehicle(\"Tata\", \"Pulsar\", 2005)\n",
    "car1 = Car(\"Suzuki\", \"Swift\", 2019, 4, \"Petrol\")\n",
    "car2 = Car(\"Tesla\", \"Car\", 2020, 4, \"Electric\")"
   ]
  },
  {
   "cell_type": "code",
   "execution_count": 14,
   "id": "764d4c3e",
   "metadata": {},
   "outputs": [
    {
     "name": "stdout",
     "output_type": "stream",
     "text": [
      "From base class\n",
      "From base class\n",
      "From base class\n"
     ]
    },
    {
     "ename": "ValueError",
     "evalue": "too many values to unpack (expected 3)",
     "output_type": "error",
     "traceback": [
      "\u001b[1;31m---------------------------------------------------------------------------\u001b[0m",
      "\u001b[1;31mValueError\u001b[0m                                Traceback (most recent call last)",
      "Cell \u001b[1;32mIn[14], line 4\u001b[0m\n\u001b[0;32m      2\u001b[0m veh1\u001b[38;5;241m.\u001b[39mdisplay()\n\u001b[0;32m      3\u001b[0m veh2\u001b[38;5;241m.\u001b[39mdisplay()\n\u001b[1;32m----> 4\u001b[0m \u001b[43mcar1\u001b[49m\u001b[38;5;241;43m.\u001b[39;49m\u001b[43mdisplayAdd\u001b[49m\u001b[43m(\u001b[49m\u001b[43m)\u001b[49m\n\u001b[0;32m      5\u001b[0m car2\u001b[38;5;241m.\u001b[39mdisplayAdd()\n",
      "Cell \u001b[1;32mIn[12], line 9\u001b[0m, in \u001b[0;36mCar.displayAdd\u001b[1;34m(self)\u001b[0m\n\u001b[0;32m      8\u001b[0m \u001b[38;5;28;01mdef\u001b[39;00m \u001b[38;5;21mdisplayAdd\u001b[39m(\u001b[38;5;28mself\u001b[39m):\n\u001b[1;32m----> 9\u001b[0m     make,model,year\u001b[38;5;241m=\u001b[39m\u001b[38;5;28mself\u001b[39m\u001b[38;5;241m.\u001b[39mdisplay()\n\u001b[0;32m     10\u001b[0m     \u001b[38;5;28mprint\u001b[39m(\u001b[38;5;124m\"\u001b[39m\u001b[38;5;124mFrom Child Class\u001b[39m\u001b[38;5;124m\"\u001b[39m)\n\u001b[0;32m     11\u001b[0m     \u001b[38;5;28;01mreturn\u001b[39;00m make,model,year,\u001b[38;5;28mself\u001b[39m\u001b[38;5;241m.\u001b[39mnum_doors,\u001b[38;5;28mself\u001b[39m\u001b[38;5;241m.\u001b[39mfuel_type\n",
      "\u001b[1;31mValueError\u001b[0m: too many values to unpack (expected 3)"
     ]
    }
   ],
   "source": [
    "#Q2i display information of the objects\n",
    "veh1.display()\n",
    "veh2.display()\n",
    "car1.displayAdd()\n",
    "car2.displayAdd()"
   ]
  },
  {
   "cell_type": "code",
   "execution_count": null,
   "id": "e3366fa6",
   "metadata": {},
   "outputs": [],
   "source": []
  }
 ],
 "metadata": {
  "kernelspec": {
   "display_name": "Python 3 (ipykernel)",
   "language": "python",
   "name": "python3"
  },
  "language_info": {
   "codemirror_mode": {
    "name": "ipython",
    "version": 3
   },
   "file_extension": ".py",
   "mimetype": "text/x-python",
   "name": "python",
   "nbconvert_exporter": "python",
   "pygments_lexer": "ipython3",
   "version": "3.10.13"
  }
 },
 "nbformat": 4,
 "nbformat_minor": 5
}
