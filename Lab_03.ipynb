{
 "cells": [
  {
   "cell_type": "markdown",
   "id": "7b38fd22",
   "metadata": {},
   "source": [
    "## Name-Abhishek Kumar"
   ]
  },
  {
   "cell_type": "markdown",
   "id": "57be7429",
   "metadata": {},
   "source": [
    "## Roll-2105598"
   ]
  },
  {
   "cell_type": "markdown",
   "id": "f2fcb577",
   "metadata": {},
   "source": [
    "### q1-WAP in Python to create a lambda function to find the square of a given number."
   ]
  },
  {
   "cell_type": "code",
   "execution_count": 1,
   "id": "919b3d5b",
   "metadata": {},
   "outputs": [
    {
     "name": "stdout",
     "output_type": "stream",
     "text": [
      "Enter A Number :5\n",
      "The square of 5 is: 25\n"
     ]
    }
   ],
   "source": [
    "square = lambda x: x**2\n",
    "\n",
    "number = int(input('Enter A Number :'))\n",
    "result = square(number)\n",
    "\n",
    "print(f\"The square of {number} is: {result}\")\n"
   ]
  },
  {
   "cell_type": "markdown",
   "id": "56b38c67",
   "metadata": {},
   "source": [
    "### q2-WAP in Python to create a Lambda function to find the sum of 2 given numbers."
   ]
  },
  {
   "cell_type": "code",
   "execution_count": 2,
   "id": "6bd0d8c1",
   "metadata": {},
   "outputs": [
    {
     "name": "stdout",
     "output_type": "stream",
     "text": [
      "Enter Num1: 3\n",
      "Enter Num2: 4\n",
      "Sum is : 7\n"
     ]
    }
   ],
   "source": [
    "sum =lambda x,y:x+y\n",
    "\n",
    "num1=int(input('Enter Num1: '))\n",
    "num2=int(input('Enter Num2: '))\n",
    "result=sum(num1,num2)\n",
    "print(f\"Sum is : {result}\")"
   ]
  },
  {
   "cell_type": "markdown",
   "id": "13ba7904",
   "metadata": {},
   "source": [
    "### q3-WAP in Python to create a Lambda Function to find the biggest of given values."
   ]
  },
  {
   "cell_type": "code",
   "execution_count": 4,
   "id": "99ff77f4",
   "metadata": {},
   "outputs": [
    {
     "name": "stdout",
     "output_type": "stream",
     "text": [
      "Enter Num1: 5\n",
      "Enter Num2: 2\n",
      "Sum is : 5\n"
     ]
    }
   ],
   "source": [
    "maxval=lambda x,y:x if x>y else y\n",
    "\n",
    "num1=int(input('Enter Num1: '))\n",
    "num2=int(input('Enter Num2: '))\n",
    "result=maxval(num1,num2)\n",
    "print(f\"Sum is : {result}\")"
   ]
  },
  {
   "cell_type": "markdown",
   "id": "06966d46",
   "metadata": {},
   "source": [
    "### q4-WAP in Python program to filter only even numbers from the list by using filter() function."
   ]
  },
  {
   "cell_type": "markdown",
   "id": "6edbb293",
   "metadata": {},
   "source": [
    "#### a)Write user defined functions for this task"
   ]
  },
  {
   "cell_type": "code",
   "execution_count": 23,
   "id": "9361c7ea",
   "metadata": {},
   "outputs": [
    {
     "name": "stdout",
     "output_type": "stream",
     "text": [
      "[2, 4, 6, 8, 10]\n"
     ]
    }
   ],
   "source": [
    "def is_even(num):\n",
    "    return num % 2 == 0\n",
    "\n",
    "\n",
    "my_list = [1, 2, 3, 4, 5, 6, 7, 8, 9, 10]\n",
    "filtered_list = list(filter(is_even, my_list))\n",
    "print(filtered_list)\n"
   ]
  },
  {
   "cell_type": "markdown",
   "id": "92d31364",
   "metadata": {},
   "source": [
    "#### b)Write Lambda functions for this task"
   ]
  },
  {
   "cell_type": "code",
   "execution_count": 6,
   "id": "51ff53f3",
   "metadata": {},
   "outputs": [
    {
     "name": "stdout",
     "output_type": "stream",
     "text": [
      "[2, 4, 6, 8, 10]\n"
     ]
    }
   ],
   "source": [
    "my_list = [1, 2, 3, 4, 5, 6, 7, 8, 9, 10]\n",
    "\n",
    "filtered_list_lambda = list(filter(lambda x: x % 2 == 0, my_list))\n",
    "print(filtered_list_lambda)\n"
   ]
  },
  {
   "cell_type": "markdown",
   "id": "dbef20c0",
   "metadata": {},
   "source": [
    "### q5-WAP in Python program to perform double and generate new list of doubles for every element present in the list"
   ]
  },
  {
   "cell_type": "markdown",
   "id": "2bc4c4df",
   "metadata": {},
   "source": [
    "#### a)Write user defined functions for this task"
   ]
  },
  {
   "cell_type": "code",
   "execution_count": 20,
   "id": "6e03546b",
   "metadata": {},
   "outputs": [
    {
     "name": "stdout",
     "output_type": "stream",
     "text": [
      "[2, 4, 6, 8, 10]\n"
     ]
    }
   ],
   "source": [
    "def double_element(x):\n",
    "    return x * 2\n",
    "\n",
    "\n",
    "list_val = [1, 2, 3, 4, 5]\n",
    "result = list(map(double_element, list_val))\n",
    "print(result)\n"
   ]
  },
  {
   "cell_type": "markdown",
   "id": "9f49b878",
   "metadata": {},
   "source": [
    "#### b)Write Lambda functions for this task"
   ]
  },
  {
   "cell_type": "code",
   "execution_count": 22,
   "id": "6195d3d3",
   "metadata": {},
   "outputs": [
    {
     "name": "stdout",
     "output_type": "stream",
     "text": [
      "[2, 4, 6, 8, 10]\n"
     ]
    }
   ],
   "source": [
    "double_element_lambda = lambda x: x * 2\n",
    "\n",
    "\n",
    "input_list = [1, 2, 3, 4, 5]\n",
    "result = list(map(double_element_lambda, input_list))\n",
    "print(result)"
   ]
  },
  {
   "cell_type": "markdown",
   "id": "86522f45",
   "metadata": {},
   "source": [
    "### WAP in Python program to find square of given numbers using map() function\n"
   ]
  },
  {
   "cell_type": "markdown",
   "id": "dcf9d5d8",
   "metadata": {},
   "source": [
    "#### a)Write user defined functions for this task"
   ]
  },
  {
   "cell_type": "code",
   "execution_count": 12,
   "id": "f4bd7683",
   "metadata": {},
   "outputs": [
    {
     "name": "stdout",
     "output_type": "stream",
     "text": [
      "[1, 4, 9, 16, 25]\n"
     ]
    }
   ],
   "source": [
    "def square_of_num(num):\n",
    "    return num**2\n",
    "\n",
    "input_list=[1,2,3,4,5]\n",
    "result=list(map(square_of_num,input_list))\n",
    "print(result)"
   ]
  },
  {
   "cell_type": "markdown",
   "id": "4201582e",
   "metadata": {},
   "source": [
    "#### b)Write Lambda functions for this taskb. Write Lambda functions for this task"
   ]
  },
  {
   "cell_type": "code",
   "execution_count": 18,
   "id": "497aab69",
   "metadata": {},
   "outputs": [
    {
     "name": "stdout",
     "output_type": "stream",
     "text": [
      "[1, 4, 9, 16, 25]\n"
     ]
    }
   ],
   "source": [
    "square_number_lambda = lambda x: x ** 2\n",
    "\n",
    "\n",
    "input_num = [1, 2, 3, 4, 5]\n",
    "result=list(map(square_number_lambda,input_num))\n",
    "print(result_squares_lambda)\n"
   ]
  },
  {
   "cell_type": "markdown",
   "id": "51197dc5",
   "metadata": {},
   "source": [
    "### q7-WAP in Python program to find the value of the following expression. We have to pass the lambda function as an argument for cube and square calculation. Here x is variable and a, b, c,d are constant. Also explore different ways of passing parameters to functions Y = ax^3 + bx^2+cx+d"
   ]
  },
  {
   "cell_type": "code",
   "execution_count": 17,
   "id": "e608d2f2",
   "metadata": {},
   "outputs": [
    {
     "name": "stdout",
     "output_type": "stream",
     "text": [
      "The value of Y for x = 2 is: 41\n"
     ]
    }
   ],
   "source": [
    "cube = lambda x: x**3\n",
    "square = lambda x: x**2\n",
    "\n",
    "def calculate_expression(x, a, b, c, d):\n",
    "    result = a * cube(x) + b * square(x) + c * x + d\n",
    "    return result\n",
    "\n",
    "\n",
    "\n",
    "a = 2\n",
    "b = 3\n",
    "c = 4\n",
    "d = 5\n",
    "\n",
    "x_value = 2\n",
    "result = calculate_expression(x_value, a, b, c, d)\n",
    "\n",
    "print(f\"The value of Y for x = {x_value} is: {result}\")\n"
   ]
  },
  {
   "cell_type": "code",
   "execution_count": null,
   "id": "0518e333",
   "metadata": {},
   "outputs": [],
   "source": []
  }
 ],
 "metadata": {
  "kernelspec": {
   "display_name": "Python 3 (ipykernel)",
   "language": "python",
   "name": "python3"
  },
  "language_info": {
   "codemirror_mode": {
    "name": "ipython",
    "version": 3
   },
   "file_extension": ".py",
   "mimetype": "text/x-python",
   "name": "python",
   "nbconvert_exporter": "python",
   "pygments_lexer": "ipython3",
   "version": "3.10.13"
  }
 },
 "nbformat": 4,
 "nbformat_minor": 5
}
