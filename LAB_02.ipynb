{
 "cells": [
  {
   "cell_type": "markdown",
   "id": "64b5b5e7",
   "metadata": {},
   "source": [
    "## Name-Abhishek Kumar"
   ]
  },
  {
   "cell_type": "markdown",
   "id": "bedab6ab",
   "metadata": {},
   "source": [
    "### Roll-2105598 "
   ]
  },
  {
   "cell_type": "markdown",
   "id": "ef5f1ecf",
   "metadata": {},
   "source": [
    "###  Q1-WAP in Python to add two numbers entered through keyboard by using a suitable user defined function (say SUM) for addition operation."
   ]
  },
  {
   "cell_type": "code",
   "execution_count": 3,
   "id": "bab44875",
   "metadata": {},
   "outputs": [
    {
     "name": "stdout",
     "output_type": "stream",
     "text": [
      "Enter 1st Number -3\n",
      "Enter 2nd Number -5\n",
      "sum is 8\n"
     ]
    }
   ],
   "source": [
    "def saysum(num1,num2):\n",
    "    return num1+num2\n",
    "\n",
    "num1=int(input('Enter 1st Number -'))\n",
    "num2=int(input('Enter 2nd Number -'))\n",
    "res=saysum(num1,num2)\n",
    "print(f'sum is {res}')"
   ]
  },
  {
   "cell_type": "markdown",
   "id": "d229e6d5",
   "metadata": {},
   "source": [
    "###  Q2-WAP in Python to find the factorial of a number n by using a suitable user defined function (say fact) for it."
   ]
  },
  {
   "cell_type": "code",
   "execution_count": 4,
   "id": "bc8a7a5d",
   "metadata": {},
   "outputs": [
    {
     "name": "stdout",
     "output_type": "stream",
     "text": [
      "Enter a Number -5\n",
      "sum is 120\n"
     ]
    }
   ],
   "source": [
    "def sayfact(num):\n",
    "    fact=1\n",
    "    while(num>0):\n",
    "        fact=fact*num\n",
    "        num=num-1\n",
    "    return fact\n",
    "        \n",
    "\n",
    "num=int(input('Enter a Number -'))\n",
    "res=sayfact(num)\n",
    "print(f'sum is {res}')"
   ]
  },
  {
   "cell_type": "markdown",
   "id": "1a04492e",
   "metadata": {},
   "source": [
    "### Q3-WAP in Python to find out the sum of digits of a number n by using function."
   ]
  },
  {
   "cell_type": "code",
   "execution_count": 12,
   "id": "e39385b7",
   "metadata": {},
   "outputs": [
    {
     "name": "stdout",
     "output_type": "stream",
     "text": [
      "Enter a Number -467\n",
      "sum is 17\n"
     ]
    }
   ],
   "source": [
    "def saysum(num):\n",
    "    res=0\n",
    "    while(num!=0):\n",
    "        d=num%10\n",
    "        res+=d\n",
    "        num=num//10\n",
    "    return res\n",
    "\n",
    "num1=int(input('Enter a Number -'))\n",
    "res=saysum(num1)\n",
    "print(f'sum is {res}')"
   ]
  },
  {
   "cell_type": "markdown",
   "id": "1c25e8a3",
   "metadata": {},
   "source": [
    "### Q4- A Fibonacci sequence is defined as follows: the first and second terms in the sequence are 0 and 1. Subsequent terms are found by adding the preceding two terms in the sequence (Fi=Fi-1+Fi-2). WAP to find out the value of the nth term of the Fibonaccisequence by writing a suitable user defined funtion (say fib) for it."
   ]
  },
  {
   "cell_type": "code",
   "execution_count": 25,
   "id": "173cb8d7",
   "metadata": {},
   "outputs": [
    {
     "name": "stdout",
     "output_type": "stream",
     "text": [
      "Enter a Number -6\n",
      "0\n",
      "1\n",
      "1\n",
      "2\n",
      "3\n",
      "5\n",
      "8\n"
     ]
    }
   ],
   "source": [
    "def fibonacciNum(num):\n",
    "    n1,n2=0,1\n",
    "    count=0\n",
    "    if(num==0):\n",
    "        print(num)\n",
    "        return\n",
    "    else:`\n",
    "        while(count<=num):\n",
    "            print(n1)\n",
    "            nth=n1+n2\n",
    "            n1=n2\n",
    "            n2=nth\n",
    "            count+=1\n",
    "    \n",
    "num1=int(input('Enter a Number -'))\n",
    "fibonacciNum(num1)\n"
   ]
  },
  {
   "cell_type": "markdown",
   "id": "ceb0932b",
   "metadata": {},
   "source": [
    "### Q5-WAP in Python to swap the values of two variables by using a suitable user defined function (say SWAP) for it."
   ]
  },
  {
   "cell_type": "code",
   "execution_count": 27,
   "id": "a2fe7e69",
   "metadata": {},
   "outputs": [
    {
     "name": "stdout",
     "output_type": "stream",
     "text": [
      "Enter 1st Number -2\n",
      "Enter 2nd Number -3\n",
      "Before swapping num1=2\n",
      "Before swapping num2=3\n",
      "After swapping num1=3\n",
      "After swapping num2=2\n"
     ]
    }
   ],
   "source": [
    "def swap(n1,n2):\n",
    "    n=n1\n",
    "    n1=n2\n",
    "    n2=n\n",
    "    return n1,n2\n",
    "\n",
    "num1=int(input('Enter 1st Number -'))\n",
    "num2=int(input('Enter 2nd Number -'))\n",
    "\n",
    "print(f'Before swapping num1={num1}')\n",
    "print(f'Before swapping num2={num2}')\n",
    "num1,num2=swap(num1,num2)\n",
    "print(f'After swapping num1={num1}')\n",
    "print(f'After swapping num2={num2}')\n"
   ]
  },
  {
   "cell_type": "markdown",
   "id": "e68e5277",
   "metadata": {},
   "source": [
    "### Q6-WAP in Python to calculate GCD/HCF of two numbers by using an iterative function for GCD."
   ]
  },
  {
   "cell_type": "code",
   "execution_count": 35,
   "id": "6a09f7c1",
   "metadata": {},
   "outputs": [
    {
     "name": "stdout",
     "output_type": "stream",
     "text": [
      "Enter the first number: 3\n",
      "Enter the second number: 4\n",
      "The GCD of 3 and 4 is: 1\n"
     ]
    }
   ],
   "source": [
    "def calculate_gcd_iterative(a, b):\n",
    "    if(b==0):\n",
    "        return a\n",
    "    while (b!=0):\n",
    "        c=a\n",
    "        a=b\n",
    "        b=c%b\n",
    "    return a\n",
    "\n",
    "\n",
    "num1 = int(input(\"Enter the first number: \"))\n",
    "num2 = int(input(\"Enter the second number: \"))\n",
    "gcd = calculate_gcd_iterative(num1, num2)\n",
    "print(f\"The GCD of {num1} and {num2} is: {gcd}\")\n"
   ]
  },
  {
   "cell_type": "markdown",
   "id": "fb5dee37",
   "metadata": {},
   "source": [
    "### Q7-WAP in Python to test whether a number n is a palindrome number or not."
   ]
  },
  {
   "cell_type": "code",
   "execution_count": 41,
   "id": "529b5c57",
   "metadata": {},
   "outputs": [
    {
     "name": "stdout",
     "output_type": "stream",
     "text": [
      "Enter a Number - 121\n",
      "Palindrom\n"
     ]
    }
   ],
   "source": [
    "def rev(num):\n",
    "    res=0\n",
    "    while(num!=0):\n",
    "        v=num%10\n",
    "        res=res*10+v\n",
    "        num=num//10\n",
    "    return res\n",
    "\n",
    "num=int(input('Enter a Number - '))\n",
    "rev_num=rev(num)\n",
    "if(num==rev_num):\n",
    "    print('Palindrom')\n",
    "else:\n",
    "    print('Not Palindrom')\n",
    "        "
   ]
  },
  {
   "cell_type": "markdown",
   "id": "ec17cc4c",
   "metadata": {},
   "source": [
    "### Q8-WAP in Python to calculate x y by writing a function (say POWER) for it."
   ]
  },
  {
   "cell_type": "code",
   "execution_count": 46,
   "id": "1b1ab56a",
   "metadata": {},
   "outputs": [
    {
     "name": "stdout",
     "output_type": "stream",
     "text": [
      "Enter the base (x): 2\n",
      "Enter the exponent (y): 3\n",
      "Result is: 8\n"
     ]
    }
   ],
   "source": [
    "def power(x, y):\n",
    "    result = x ** y\n",
    "    return result\n",
    "\n",
    "\n",
    "x = int(input(\"Enter the base (x): \"))\n",
    "y = int(input(\"Enter the exponent (y): \"))\n",
    "\n",
    "\n",
    "result = power(x,y)\n",
    "print(f'Result is: {result}')\n"
   ]
  },
  {
   "cell_type": "markdown",
   "id": "149b1124",
   "metadata": {},
   "source": [
    "### Q9-Write a program to create a set of user-defined functions to perform basic mathematical operations (addition, subtraction, multiplication, and division) and explore different ways of passing parameters to functions."
   ]
  },
  {
   "cell_type": "code",
   "execution_count": 43,
   "id": "2fb11989",
   "metadata": {},
   "outputs": [
    {
     "name": "stdout",
     "output_type": "stream",
     "text": [
      "Enter the first number: 6\n",
      "Enter the second number: 4\n",
      "Addition Result:  10.0\n",
      "Subtraction Result:  2.0\n",
      "Multiplication Result:  24.0\n",
      "Division Result: 1.5\n"
     ]
    }
   ],
   "source": [
    "def add(x, y):\n",
    "    return x + y\n",
    "\n",
    "def subtract(x, y):\n",
    "    return x - y\n",
    "\n",
    "def multiply(x, y):\n",
    "    return x * y\n",
    "\n",
    "def divide(x, y):\n",
    "    if y != 0:\n",
    "        return x / y\n",
    "    else:\n",
    "        return \"Cannot divide by zero\"\n",
    "\n",
    "\n",
    "num1 = float(input(\"Enter the first number: \"))\n",
    "num2 = float(input(\"Enter the second number: \"))\n",
    "\n",
    "print(f\"Addition Result:  {add(num1, num2)}\")\n",
    "print(f\"Subtraction Result:  {subtract(num1, num2)}\")\n",
    "print(f\"Multiplication Result:  {multiply(num1, num2)}\")\n",
    "print(f\"Division Result: {divide(num1, num2)}\")\n"
   ]
  },
  {
   "cell_type": "code",
   "execution_count": null,
   "id": "a660d964",
   "metadata": {},
   "outputs": [],
   "source": []
  }
 ],
 "metadata": {
  "kernelspec": {
   "display_name": "Python 3 (ipykernel)",
   "language": "python",
   "name": "python3"
  },
  "language_info": {
   "codemirror_mode": {
    "name": "ipython",
    "version": 3
   },
   "file_extension": ".py",
   "mimetype": "text/x-python",
   "name": "python",
   "nbconvert_exporter": "python",
   "pygments_lexer": "ipython3",
   "version": "3.10.9"
  }
 },
 "nbformat": 4,
 "nbformat_minor": 5
}
