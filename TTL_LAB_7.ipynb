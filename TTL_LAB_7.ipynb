{
 "cells": [
  {
   "cell_type": "markdown",
   "id": "de291aed",
   "metadata": {},
   "source": [
    "## Name-Abhishek Kumar\n",
    "## Roll-2105598"
   ]
  },
  {
   "cell_type": "code",
   "execution_count": 1,
   "id": "c98c4129",
   "metadata": {},
   "outputs": [],
   "source": [
    "import pandas as pd\n",
    "import numpy as np"
   ]
  },
  {
   "cell_type": "code",
   "execution_count": 2,
   "id": "a08e0a04",
   "metadata": {},
   "outputs": [],
   "source": [
    "lf=pd.read_csv('data.csv')"
   ]
  },
  {
   "cell_type": "code",
   "execution_count": 4,
   "id": "cd33680a",
   "metadata": {},
   "outputs": [
    {
     "name": "stdout",
     "output_type": "stream",
     "text": [
      "        Roll  Score\n",
      "0    2005011    4.0\n",
      "1    2005058    5.0\n",
      "2    2005076    3.0\n",
      "3    2005119    4.0\n",
      "4    2005150    5.0\n",
      "..       ...    ...\n",
      "86  21053022    4.0\n",
      "87  21053042    4.0\n",
      "88  21053047    5.0\n",
      "89  21053066    4.0\n",
      "90  21053067    4.0\n",
      "\n",
      "[91 rows x 2 columns]\n"
     ]
    }
   ],
   "source": [
    "print(lf)"
   ]
  },
  {
   "cell_type": "code",
   "execution_count": 5,
   "id": "c011ed4d",
   "metadata": {},
   "outputs": [
    {
     "name": "stdout",
     "output_type": "stream",
     "text": [
      "23    2005521\n",
      "31    2005598\n",
      "38    2005704\n",
      "Name: Roll, dtype: int64\n"
     ]
    }
   ],
   "source": [
    "roll=lf[lf['Score'].isnull()]\n",
    "print(roll['Roll'])"
   ]
  },
  {
   "cell_type": "code",
   "execution_count": 7,
   "id": "f396bbfe",
   "metadata": {},
   "outputs": [],
   "source": [
    "lf['Score'] = np.where(lf['Score']>=60,'pass','fail')"
   ]
  },
  {
   "cell_type": "code",
   "execution_count": 8,
   "id": "1c2e8214",
   "metadata": {},
   "outputs": [],
   "source": [
    "lf['Score'] = pd.to_numeric(lf['Score'], errors='coerce')\n",
    "\n",
    "# Apply your operation\n",
    "lf['Score'] = lf['Score'].apply(lambda x: x + 1 if pd.notnull(x) and x <= 5 else x)"
   ]
  },
  {
   "cell_type": "code",
   "execution_count": 9,
   "id": "893fefb1",
   "metadata": {},
   "outputs": [
    {
     "name": "stdout",
     "output_type": "stream",
     "text": [
      "        Roll  Score\n",
      "0    2005011    NaN\n",
      "1    2005058    NaN\n",
      "2    2005076    NaN\n",
      "3    2005119    NaN\n",
      "4    2005150    NaN\n",
      "..       ...    ...\n",
      "86  21053022    NaN\n",
      "87  21053042    NaN\n",
      "88  21053047    NaN\n",
      "89  21053066    NaN\n",
      "90  21053067    NaN\n",
      "\n",
      "[91 rows x 2 columns]\n"
     ]
    }
   ],
   "source": [
    "print(lf)"
   ]
  },
  {
   "cell_type": "code",
   "execution_count": 11,
   "id": "03c6ce02",
   "metadata": {},
   "outputs": [
    {
     "name": "stdout",
     "output_type": "stream",
     "text": [
      "        Roll  Score  Percentage Pass/Fail\n",
      "0    2005011    NaN         NaN      fail\n",
      "1    2005058    NaN         NaN      fail\n",
      "2    2005076    NaN         NaN      fail\n",
      "3    2005119    NaN         NaN      fail\n",
      "4    2005150    NaN         NaN      fail\n",
      "..       ...    ...         ...       ...\n",
      "86  21053022    NaN         NaN      fail\n",
      "87  21053042    NaN         NaN      fail\n",
      "88  21053047    NaN         NaN      fail\n",
      "89  21053066    NaN         NaN      fail\n",
      "90  21053067    NaN         NaN      fail\n",
      "\n",
      "[91 rows x 4 columns]\n"
     ]
    }
   ],
   "source": [
    "lf['Percentage'] = lf['Score']*(100/10)\n",
    "lf['Pass/Fail'] = np.where(lf['Percentage']>=60,'pass','fail')\n",
    "print(lf)"
   ]
  },
  {
   "cell_type": "code",
   "execution_count": 12,
   "id": "3305690c",
   "metadata": {},
   "outputs": [
    {
     "name": "stdout",
     "output_type": "stream",
     "text": [
      "Number of students who got less than or equal to 30%: 0\n"
     ]
    }
   ],
   "source": [
    "students_less_than_30 = lf[lf['Percentage'] <= 30].shape[0]\n",
    "print(\"Number of students who got less than or equal to 30%:\", students_less_than_30)"
   ]
  },
  {
   "cell_type": "code",
   "execution_count": 13,
   "id": "23cfb6e0",
   "metadata": {},
   "outputs": [
    {
     "name": "stdout",
     "output_type": "stream",
     "text": [
      "Number of students who got more than or equal to 80%: 0\n"
     ]
    }
   ],
   "source": [
    "num_students_more_than_80 = lf[lf['Percentage'] >= 80].shape[0]\n",
    "print(\"Number of students who got more than or equal to 80%:\", num_students_more_than_80)"
   ]
  },
  {
   "cell_type": "code",
   "execution_count": null,
   "id": "0babcd67",
   "metadata": {},
   "outputs": [],
   "source": []
  }
 ],
 "metadata": {
  "kernelspec": {
   "display_name": "Python 3 (ipykernel)",
   "language": "python",
   "name": "python3"
  },
  "language_info": {
   "codemirror_mode": {
    "name": "ipython",
    "version": 3
   },
   "file_extension": ".py",
   "mimetype": "text/x-python",
   "name": "python",
   "nbconvert_exporter": "python",
   "pygments_lexer": "ipython3",
   "version": "3.10.13"
  }
 },
 "nbformat": 4,
 "nbformat_minor": 5
}
