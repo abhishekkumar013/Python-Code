{
 "cells": [
  {
   "cell_type": "code",
   "execution_count": 4,
   "id": "85a5b041",
   "metadata": {},
   "outputs": [
    {
     "name": "stdout",
     "output_type": "stream",
     "text": [
      "Abhishek kumar\n",
      "Ritesh kumar\n"
     ]
    }
   ],
   "source": [
    "class firstlast:\n",
    "    fname=\"Abhishek \"\n",
    "    lname=\"kumar\"\n",
    "    def fullname(self):\n",
    "        return self.fname+self.lname\n",
    "\n",
    "per1=firstlast()\n",
    "print(per1.fullname())\n",
    "\n",
    "per2=firstlast() \n",
    "per2.fname=\"Ritesh \"\n",
    "per2.lname=\"kumar\"\n",
    "print(per2.fullname())"
   ]
  },
  {
   "cell_type": "code",
   "execution_count": 8,
   "id": "36fd7653",
   "metadata": {},
   "outputs": [
    {
     "name": "stdout",
     "output_type": "stream",
     "text": [
      "Abhishek Kumar\n"
     ]
    }
   ],
   "source": [
    "class firstlast:\n",
    "    def __init__(self,fname,lname):\n",
    "        self.fname=fname\n",
    "        self.lname=lname\n",
    "    def fullname(self):\n",
    "        return self.fname+self.lname\n",
    "\n",
    "per1=firstlast('Abhishek ','Kumar')\n",
    "print(per1.fullname())\n",
    "\n"
   ]
  },
  {
   "cell_type": "code",
   "execution_count": 12,
   "id": "8d0e7f7a",
   "metadata": {},
   "outputs": [
    {
     "name": "stdout",
     "output_type": "stream",
     "text": [
      "Abhishek Kumar 2105598\n",
      "Abhishek Kumar \n"
     ]
    }
   ],
   "source": [
    "class firstlast:\n",
    "    def __init__(self,fname,lname):\n",
    "        self.fname=fname\n",
    "        self.lname=lname\n",
    "    def fullname(self):\n",
    "        return self.fname+self.lname\n",
    "\n",
    "\n",
    "class firstlastID(firstlast):\n",
    "    def __init__(self,fname,lname,id):\n",
    "        firstlast.__init__(self,fname,lname)\n",
    "        self.id=id\n",
    "    def fullnameID(self):\n",
    "        return self.fullname()+self.id\n",
    "\n",
    "per1=firstlastID('Abhishek ','Kumar ','2105598')\n",
    "print(per1.fullnameID())\n",
    "print(per1.fullname())"
   ]
  },
  {
   "cell_type": "code",
   "execution_count": 15,
   "id": "8be82afd",
   "metadata": {},
   "outputs": [
    {
     "name": "stdout",
     "output_type": "stream",
     "text": [
      "Abhishek Kumar 2105598\n",
      "Abhishek Kumar \n"
     ]
    }
   ],
   "source": [
    "class firstlast:\n",
    "    def __init__(self,fname,lname):\n",
    "        self.fname=fname\n",
    "        self.lname=lname\n",
    "    def fullname(self):\n",
    "        return self.fname+self.lname\n",
    "\n",
    "\n",
    "class firstlastID(firstlast):\n",
    "    def __init__(self,fname,lname,id):\n",
    "        super().__init__(fname,lname)\n",
    "        self.id=id\n",
    "    def fullnameID(self):\n",
    "        return self.fullname()+self.id\n",
    "\n",
    "per1=firstlastID('Abhishek ','Kumar ','2105598')\n",
    "print(per1.fullnameID())\n",
    "print(per1.fullname())"
   ]
  },
  {
   "cell_type": "code",
   "execution_count": 23,
   "id": "b50e46f3",
   "metadata": {},
   "outputs": [
    {
     "name": "stdout",
     "output_type": "stream",
     "text": [
      "1\n",
      "2\n",
      "3\n"
     ]
    }
   ],
   "source": [
    "class A:\n",
    "    def __init__(self,a):\n",
    "        self.a=a\n",
    "    def value(self):\n",
    "        return self.a\n",
    "    def __add__(self,o):\n",
    "        return self.a+o.a\n",
    "\n",
    "obs1=A(1)\n",
    "obs2=A(2)\n",
    "print(obs1.value())\n",
    "print(obs2.value())\n",
    "print(obs1+obs2) #operator overloading"
   ]
  },
  {
   "cell_type": "markdown",
   "id": "91ad3f26",
   "metadata": {},
   "source": [
    "### Q1.Write a python program to create a class called Calculator and define four methods to perform basic mathematical operations (addition, subtraction, multiplication, and division). Pass the variable as arguments by using constructor."
   ]
  },
  {
   "cell_type": "code",
   "execution_count": 28,
   "id": "773779ec",
   "metadata": {},
   "outputs": [
    {
     "name": "stdout",
     "output_type": "stream",
     "text": [
      "5\n",
      "6\n",
      "0.6666666666666666\n"
     ]
    }
   ],
   "source": [
    "class Calculator:\n",
    "    def __init__(self,n1,n2):\n",
    "        self.n1=n1\n",
    "        self.n2=n2\n",
    "    def add(self):\n",
    "        return self.n1+self.n2\n",
    "    def sub(self):\n",
    "        return self.n1-self.n2\n",
    "    def mul(self):\n",
    "        return self.n1*self.n2\n",
    "    def div(self):\n",
    "        return self.n1/self.n2\n",
    "    \n",
    "ob1=Calculator(2,3)\n",
    "print(ob1.add())\n",
    "print(ob1.mul())\n",
    "print(ob1.div())"
   ]
  },
  {
   "cell_type": "code",
   "execution_count": null,
   "id": "b4d8f1b1",
   "metadata": {},
   "outputs": [],
   "source": [
    "class Vehicle:\n",
    "    def __init__(self,model,year):\n",
    "        self.model=model\n",
    "        self.year=year\n",
    "\n",
    "class Thar(Vechile):\n",
    "    def __init__(self,model,year,color,price):\n",
    "        super().__init__(model,year)\n",
    "        self.color=color\n",
    "        self.price=price"
   ]
  },
  {
   "cell_type": "code",
   "execution_count": 31,
   "id": "e3621c4d",
   "metadata": {},
   "outputs": [
    {
     "name": "stdout",
     "output_type": "stream",
     "text": [
      "Vehicle 1:\n",
      "2020 Toyota Camry\n",
      "\n",
      "Vehicle 2:\n",
      "2022 Honda Accord\n",
      "\n",
      "Combined Vehicle:\n",
      "2022 Toyota Honda Camry Accord\n",
      "\n",
      "Car 1:\n",
      "2021 Ford Mustang\n",
      "Number of Doors: 2\n",
      "Fuel Type: Gasoline\n",
      "\n",
      "Car 2:\n",
      "2023 Tesla Model S\n",
      "Number of Doors: 4\n",
      "Fuel Type: Electric\n"
     ]
    }
   ],
   "source": [
    "class Vehicle:\n",
    "    def __init__(self, make, model, year):\n",
    "        self.make = make\n",
    "        self.model = model\n",
    "        self.year = year\n",
    "\n",
    "    def display_info(self):\n",
    "        print(f\"{self.year} {self.make} {self.model}\")\n",
    "\n",
    "    def __add__(self, other):\n",
    "        if isinstance(other, Vehicle):\n",
    "            return Vehicle(f\"{self.make} {other.make}\", f\"{self.model} {other.model}\", max(self.year, other.year))\n",
    "        else:\n",
    "            raise ValueError(\"Unsupported operand type for +\")\n",
    "\n",
    "class Car(Vehicle):\n",
    "    def __init__(self, make, model, year, num_doors, fuel_type):\n",
    "        super().__init__(make, model, year)\n",
    "        self.num_doors = num_doors\n",
    "        self.fuel_type = fuel_type\n",
    "\n",
    "    def display_info(self):\n",
    "        super().display_info()\n",
    "        print(f\"Number of Doors: {self.num_doors}\")\n",
    "        print(f\"Fuel Type: {self.fuel_type}\")\n",
    "\n",
    "\n",
    "vehicle1 = Vehicle(\"Toyota\", \"Camry\", 2020)\n",
    "vehicle2 = Vehicle(\"Honda\", \"Accord\", 2022)\n",
    "\n",
    "\n",
    "print(\"Vehicle 1:\")\n",
    "vehicle1.display_info()\n",
    "\n",
    "print(\"\\nVehicle 2:\")\n",
    "vehicle2.display_info()\n",
    "\n",
    "\n",
    "combined_vehicle = vehicle1 + vehicle2\n",
    "print(\"\\nCombined Vehicle:\")\n",
    "combined_vehicle.display_info()\n",
    "\n",
    "\n",
    "car1 = Car(\"Ford\", \"Mustang\", 2021, 2, \"Gasoline\")\n",
    "car2 = Car(\"Tesla\", \"Model S\", 2023, 4, \"Electric\")\n",
    "\n",
    "\n",
    "print(\"\\nCar 1:\")\n",
    "car1.display_info()\n",
    "\n",
    "print(\"\\nCar 2:\")\n",
    "car2.display_info()\n"
   ]
  },
  {
   "cell_type": "code",
   "execution_count": null,
   "id": "2db888ab",
   "metadata": {},
   "outputs": [],
   "source": []
  }
 ],
 "metadata": {
  "kernelspec": {
   "display_name": "Python 3 (ipykernel)",
   "language": "python",
   "name": "python3"
  },
  "language_info": {
   "codemirror_mode": {
    "name": "ipython",
    "version": 3
   },
   "file_extension": ".py",
   "mimetype": "text/x-python",
   "name": "python",
   "nbconvert_exporter": "python",
   "pygments_lexer": "ipython3",
   "version": "3.10.13"
  }
 },
 "nbformat": 4,
 "nbformat_minor": 5
}
