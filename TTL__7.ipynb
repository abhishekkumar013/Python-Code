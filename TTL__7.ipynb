{
 "cells": [
  {
   "cell_type": "markdown",
   "id": "57c26c37",
   "metadata": {},
   "source": [
    "## Name-Abhishek Kumar\n",
    "## Roll-2105598"
   ]
  },
  {
   "cell_type": "code",
   "execution_count": 1,
   "id": "6164dd7f",
   "metadata": {},
   "outputs": [],
   "source": [
    "import pandas as pd\n",
    "import numpy as np"
   ]
  },
  {
   "cell_type": "code",
   "execution_count": 2,
   "id": "27ec118c",
   "metadata": {},
   "outputs": [],
   "source": [
    "l=[(1011,4),(1058,5),(1076,3),(1119,4),(1150,),(1161,3),(1168,4),(1178,4)]\n",
    "\n",
    "df=pd.DataFrame(l,columns=['Roll','score'])"
   ]
  },
  {
   "cell_type": "code",
   "execution_count": 3,
   "id": "c69189ec",
   "metadata": {},
   "outputs": [
    {
     "name": "stdout",
     "output_type": "stream",
     "text": [
      "   Roll  score\n",
      "0  1011    4.0\n",
      "1  1058    5.0\n",
      "2  1076    3.0\n",
      "3  1119    4.0\n",
      "4  1150    NaN\n",
      "5  1161    3.0\n",
      "6  1168    4.0\n",
      "7  1178    4.0\n"
     ]
    }
   ],
   "source": [
    "print(df)"
   ]
  },
  {
   "cell_type": "code",
   "execution_count": 4,
   "id": "04ae376f",
   "metadata": {},
   "outputs": [
    {
     "name": "stdout",
     "output_type": "stream",
     "text": [
      "0    4.0\n",
      "1    5.0\n",
      "2    3.0\n",
      "3    4.0\n",
      "4    NaN\n",
      "5    3.0\n",
      "6    4.0\n",
      "7    4.0\n",
      "Name: score, dtype: float64\n"
     ]
    }
   ],
   "source": [
    "print(df['score'])"
   ]
  },
  {
   "cell_type": "code",
   "execution_count": 5,
   "id": "b3665a21",
   "metadata": {},
   "outputs": [
    {
     "name": "stdout",
     "output_type": "stream",
     "text": [
      "0    1011\n",
      "1    1058\n",
      "2    1076\n",
      "3    1119\n",
      "4    1150\n",
      "5    1161\n",
      "6    1168\n",
      "7    1178\n",
      "Name: Roll, dtype: int64\n"
     ]
    }
   ],
   "source": [
    "print(df.Roll)"
   ]
  },
  {
   "cell_type": "code",
   "execution_count": 6,
   "id": "9092ee92",
   "metadata": {},
   "outputs": [
    {
     "name": "stdout",
     "output_type": "stream",
     "text": [
      "   score  Roll\n",
      "0    4.0  1011\n",
      "1    5.0  1058\n",
      "2    3.0  1076\n",
      "3    4.0  1119\n",
      "4    NaN  1150\n",
      "5    3.0  1161\n",
      "6    4.0  1168\n",
      "7    4.0  1178\n"
     ]
    }
   ],
   "source": [
    "print(df[['score','Roll']])"
   ]
  },
  {
   "cell_type": "code",
   "execution_count": 7,
   "id": "5a8a6ecc",
   "metadata": {},
   "outputs": [
    {
     "name": "stdout",
     "output_type": "stream",
     "text": [
      "   Roll  score\n",
      "0  1011    4.0\n",
      "1  1058    5.0\n"
     ]
    }
   ],
   "source": [
    "print(df.head(2))"
   ]
  },
  {
   "cell_type": "code",
   "execution_count": 8,
   "id": "d204a7c6",
   "metadata": {},
   "outputs": [
    {
     "name": "stdout",
     "output_type": "stream",
     "text": [
      "<bound method NDFrame.head of    Roll  score\n",
      "0  1011    4.0\n",
      "1  1058    5.0\n",
      "2  1076    3.0\n",
      "3  1119    4.0\n",
      "4  1150    NaN\n",
      "5  1161    3.0\n",
      "6  1168    4.0\n",
      "7  1178    4.0>\n"
     ]
    }
   ],
   "source": [
    "print(df.head)"
   ]
  },
  {
   "cell_type": "code",
   "execution_count": 9,
   "id": "484161fe",
   "metadata": {},
   "outputs": [
    {
     "name": "stdout",
     "output_type": "stream",
     "text": [
      "<bound method NDFrame.tail of    Roll  score\n",
      "0  1011    4.0\n",
      "1  1058    5.0\n",
      "2  1076    3.0\n",
      "3  1119    4.0\n",
      "4  1150    NaN\n",
      "5  1161    3.0\n",
      "6  1168    4.0\n",
      "7  1178    4.0>\n"
     ]
    }
   ],
   "source": [
    "print(df.tail)"
   ]
  },
  {
   "cell_type": "code",
   "execution_count": 10,
   "id": "c5ac621f",
   "metadata": {},
   "outputs": [
    {
     "name": "stdout",
     "output_type": "stream",
     "text": [
      "<class 'pandas.core.frame.DataFrame'>\n",
      "RangeIndex: 8 entries, 0 to 7\n",
      "Data columns (total 2 columns):\n",
      " #   Column  Non-Null Count  Dtype  \n",
      "---  ------  --------------  -----  \n",
      " 0   Roll    8 non-null      int64  \n",
      " 1   score   7 non-null      float64\n",
      "dtypes: float64(1), int64(1)\n",
      "memory usage: 256.0 bytes\n",
      "None\n"
     ]
    }
   ],
   "source": [
    "print(df.info())"
   ]
  },
  {
   "cell_type": "code",
   "execution_count": 11,
   "id": "925cff3f",
   "metadata": {},
   "outputs": [
    {
     "name": "stdout",
     "output_type": "stream",
     "text": [
      "              Roll     score\n",
      "count     8.000000  7.000000\n",
      "mean   1115.125000  3.857143\n",
      "std      60.616918  0.690066\n",
      "min    1011.000000  3.000000\n",
      "25%    1071.500000  3.500000\n",
      "50%    1134.500000  4.000000\n",
      "75%    1162.750000  4.000000\n",
      "max    1178.000000  5.000000\n"
     ]
    }
   ],
   "source": [
    "print(df.describe())"
   ]
  },
  {
   "cell_type": "code",
   "execution_count": 12,
   "id": "0ef1bc01",
   "metadata": {},
   "outputs": [
    {
     "name": "stdout",
     "output_type": "stream",
     "text": [
      "16\n"
     ]
    }
   ],
   "source": [
    "print(df.size)"
   ]
  },
  {
   "cell_type": "code",
   "execution_count": 13,
   "id": "96c6e812",
   "metadata": {},
   "outputs": [
    {
     "name": "stdout",
     "output_type": "stream",
     "text": [
      "    Roll  score\n",
      "0  False  False\n",
      "1  False  False\n",
      "2  False  False\n",
      "3  False  False\n",
      "4  False   True\n",
      "5  False  False\n",
      "6  False  False\n",
      "7  False  False\n"
     ]
    }
   ],
   "source": [
    "print(df.isnull())"
   ]
  },
  {
   "cell_type": "code",
   "execution_count": 14,
   "id": "d8e20d35",
   "metadata": {},
   "outputs": [
    {
     "name": "stdout",
     "output_type": "stream",
     "text": [
      "   Roll  score\n",
      "0  True   True\n",
      "1  True   True\n",
      "2  True   True\n",
      "3  True   True\n",
      "4  True  False\n",
      "5  True   True\n",
      "6  True   True\n",
      "7  True   True\n"
     ]
    }
   ],
   "source": [
    "print(df.notnull())"
   ]
  },
  {
   "cell_type": "code",
   "execution_count": 15,
   "id": "acaa74a7",
   "metadata": {},
   "outputs": [
    {
     "name": "stdout",
     "output_type": "stream",
     "text": [
      "   Roll  score\n",
      "0  1011    4.0\n",
      "1  1058    5.0\n",
      "2  1076    3.0\n",
      "3  1119    4.0\n",
      "5  1161    3.0\n",
      "6  1168    4.0\n",
      "7  1178    4.0\n"
     ]
    }
   ],
   "source": [
    "print(df.dropna())"
   ]
  },
  {
   "cell_type": "code",
   "execution_count": 16,
   "id": "1295a354",
   "metadata": {},
   "outputs": [
    {
     "name": "stdout",
     "output_type": "stream",
     "text": [
      "   Roll  score\n",
      "0  1011    4.0\n",
      "1  1058    5.0\n",
      "2  1076    3.0\n",
      "3  1119    4.0\n",
      "4  1150    0.0\n",
      "5  1161    3.0\n",
      "6  1168    4.0\n",
      "7  1178    4.0\n"
     ]
    }
   ],
   "source": [
    "print(df.fillna(0))"
   ]
  },
  {
   "cell_type": "code",
   "execution_count": 17,
   "id": "f260798a",
   "metadata": {},
   "outputs": [
    {
     "name": "stdout",
     "output_type": "stream",
     "text": [
      "   Roll  score\n",
      "0  1011    4.0\n",
      "1  1058    5.0\n",
      "2  1076    3.0\n",
      "3  1119    4.0\n",
      "4  1150    4.0\n",
      "5  1161    3.0\n",
      "6  1168    4.0\n",
      "7  1178    4.0\n"
     ]
    }
   ],
   "source": [
    "#prev value copy\n",
    "print(df.fillna(method='pad'))"
   ]
  },
  {
   "cell_type": "code",
   "execution_count": 18,
   "id": "91da3b6a",
   "metadata": {},
   "outputs": [
    {
     "name": "stdout",
     "output_type": "stream",
     "text": [
      "   Roll  score\n",
      "0  1011    4.0\n",
      "1  1058    5.0\n",
      "2  1076    3.0\n",
      "3  1119    4.0\n",
      "4  1150    3.0\n",
      "5  1161    3.0\n",
      "6  1168    4.0\n",
      "7  1178    4.0\n"
     ]
    }
   ],
   "source": [
    "#next value copy\n",
    "print(df.fillna(method='bfill'))"
   ]
  },
  {
   "cell_type": "markdown",
   "id": "328c8c42",
   "metadata": {},
   "source": [
    "## selecting and indexing"
   ]
  },
  {
   "cell_type": "code",
   "execution_count": 19,
   "id": "a84631e5",
   "metadata": {},
   "outputs": [
    {
     "data": {
      "text/html": [
       "<div>\n",
       "<style scoped>\n",
       "    .dataframe tbody tr th:only-of-type {\n",
       "        vertical-align: middle;\n",
       "    }\n",
       "\n",
       "    .dataframe tbody tr th {\n",
       "        vertical-align: top;\n",
       "    }\n",
       "\n",
       "    .dataframe thead th {\n",
       "        text-align: right;\n",
       "    }\n",
       "</style>\n",
       "<table border=\"1\" class=\"dataframe\">\n",
       "  <thead>\n",
       "    <tr style=\"text-align: right;\">\n",
       "      <th></th>\n",
       "      <th>Roll</th>\n",
       "      <th>score</th>\n",
       "    </tr>\n",
       "  </thead>\n",
       "  <tbody>\n",
       "    <tr>\n",
       "      <th>0</th>\n",
       "      <td>1011</td>\n",
       "      <td>4.0</td>\n",
       "    </tr>\n",
       "    <tr>\n",
       "      <th>1</th>\n",
       "      <td>1058</td>\n",
       "      <td>5.0</td>\n",
       "    </tr>\n",
       "    <tr>\n",
       "      <th>2</th>\n",
       "      <td>1076</td>\n",
       "      <td>3.0</td>\n",
       "    </tr>\n",
       "    <tr>\n",
       "      <th>3</th>\n",
       "      <td>1119</td>\n",
       "      <td>4.0</td>\n",
       "    </tr>\n",
       "    <tr>\n",
       "      <th>4</th>\n",
       "      <td>1150</td>\n",
       "      <td>NaN</td>\n",
       "    </tr>\n",
       "    <tr>\n",
       "      <th>5</th>\n",
       "      <td>1161</td>\n",
       "      <td>3.0</td>\n",
       "    </tr>\n",
       "    <tr>\n",
       "      <th>6</th>\n",
       "      <td>1168</td>\n",
       "      <td>4.0</td>\n",
       "    </tr>\n",
       "    <tr>\n",
       "      <th>7</th>\n",
       "      <td>1178</td>\n",
       "      <td>4.0</td>\n",
       "    </tr>\n",
       "  </tbody>\n",
       "</table>\n",
       "</div>"
      ],
      "text/plain": [
       "   Roll  score\n",
       "0  1011    4.0\n",
       "1  1058    5.0\n",
       "2  1076    3.0\n",
       "3  1119    4.0\n",
       "4  1150    NaN\n",
       "5  1161    3.0\n",
       "6  1168    4.0\n",
       "7  1178    4.0"
      ]
     },
     "execution_count": 19,
     "metadata": {},
     "output_type": "execute_result"
    }
   ],
   "source": [
    "#df.index=df.Roll\n",
    "df"
   ]
  },
  {
   "cell_type": "code",
   "execution_count": 20,
   "id": "22394f53",
   "metadata": {},
   "outputs": [
    {
     "name": "stdout",
     "output_type": "stream",
     "text": [
      "Roll     1011.0\n",
      "score       4.0\n",
      "Name: 1, dtype: float64\n"
     ]
    }
   ],
   "source": [
    "df.index=[1,2,3,4,5,6,7,8]\n",
    "print(df.loc[1])"
   ]
  },
  {
   "cell_type": "code",
   "execution_count": 21,
   "id": "94417ec2",
   "metadata": {},
   "outputs": [
    {
     "data": {
      "text/html": [
       "<div>\n",
       "<style scoped>\n",
       "    .dataframe tbody tr th:only-of-type {\n",
       "        vertical-align: middle;\n",
       "    }\n",
       "\n",
       "    .dataframe tbody tr th {\n",
       "        vertical-align: top;\n",
       "    }\n",
       "\n",
       "    .dataframe thead th {\n",
       "        text-align: right;\n",
       "    }\n",
       "</style>\n",
       "<table border=\"1\" class=\"dataframe\">\n",
       "  <thead>\n",
       "    <tr style=\"text-align: right;\">\n",
       "      <th></th>\n",
       "      <th>Roll</th>\n",
       "      <th>score</th>\n",
       "    </tr>\n",
       "  </thead>\n",
       "  <tbody>\n",
       "    <tr>\n",
       "      <th>1</th>\n",
       "      <td>1011</td>\n",
       "      <td>4.0</td>\n",
       "    </tr>\n",
       "    <tr>\n",
       "      <th>2</th>\n",
       "      <td>1058</td>\n",
       "      <td>5.0</td>\n",
       "    </tr>\n",
       "    <tr>\n",
       "      <th>3</th>\n",
       "      <td>1076</td>\n",
       "      <td>3.0</td>\n",
       "    </tr>\n",
       "    <tr>\n",
       "      <th>4</th>\n",
       "      <td>1119</td>\n",
       "      <td>4.0</td>\n",
       "    </tr>\n",
       "    <tr>\n",
       "      <th>5</th>\n",
       "      <td>1150</td>\n",
       "      <td>NaN</td>\n",
       "    </tr>\n",
       "    <tr>\n",
       "      <th>6</th>\n",
       "      <td>1161</td>\n",
       "      <td>3.0</td>\n",
       "    </tr>\n",
       "    <tr>\n",
       "      <th>7</th>\n",
       "      <td>1168</td>\n",
       "      <td>4.0</td>\n",
       "    </tr>\n",
       "    <tr>\n",
       "      <th>8</th>\n",
       "      <td>1178</td>\n",
       "      <td>4.0</td>\n",
       "    </tr>\n",
       "  </tbody>\n",
       "</table>\n",
       "</div>"
      ],
      "text/plain": [
       "   Roll  score\n",
       "1  1011    4.0\n",
       "2  1058    5.0\n",
       "3  1076    3.0\n",
       "4  1119    4.0\n",
       "5  1150    NaN\n",
       "6  1161    3.0\n",
       "7  1168    4.0\n",
       "8  1178    4.0"
      ]
     },
     "execution_count": 21,
     "metadata": {},
     "output_type": "execute_result"
    }
   ],
   "source": [
    "df"
   ]
  },
  {
   "cell_type": "code",
   "execution_count": 22,
   "id": "5f37a992",
   "metadata": {},
   "outputs": [
    {
     "name": "stdout",
     "output_type": "stream",
     "text": [
      "   Roll  score\n",
      "1  1011    4.0\n"
     ]
    }
   ],
   "source": [
    "print(df.loc[[1]]) #as per new set index"
   ]
  },
  {
   "cell_type": "code",
   "execution_count": 23,
   "id": "ac2b9328",
   "metadata": {},
   "outputs": [
    {
     "name": "stdout",
     "output_type": "stream",
     "text": [
      "   Roll  score\n",
      "2  1058    5.0\n"
     ]
    }
   ],
   "source": [
    "print(df.iloc[[1]]) #as per prev index"
   ]
  },
  {
   "cell_type": "code",
   "execution_count": 24,
   "id": "96356fd2",
   "metadata": {},
   "outputs": [
    {
     "name": "stdout",
     "output_type": "stream",
     "text": [
      "   Roll  score\n",
      "1  1011    4.0\n",
      "2  1058    5.0\n",
      "3  1076    3.0\n",
      "4  1119    4.0\n",
      "5  1150    NaN\n",
      "6  1161    3.0\n",
      "7  1168    4.0\n",
      "8  1178    4.0\n",
      "------\n",
      "   Roll  score\n",
      "5  1011    4.0\n",
      "3  1058    5.0\n",
      "1  1076    3.0\n",
      "4  1119    4.0\n",
      "7  1150    NaN\n",
      "8  1161    3.0\n",
      "6  1168    4.0\n",
      "2  1178    4.0\n",
      "------\n",
      "   Roll  score\n",
      "1  1076    3.0\n"
     ]
    }
   ],
   "source": [
    "print(df)\n",
    "print('------')\n",
    "df.index=[5,3,1,4,7,8,6,2]\n",
    "print(df)\n",
    "print('------')\n",
    "print(df.loc[[1]])"
   ]
  },
  {
   "cell_type": "code",
   "execution_count": 25,
   "id": "eacb9856",
   "metadata": {},
   "outputs": [
    {
     "name": "stdout",
     "output_type": "stream",
     "text": [
      "   Roll  score\n",
      "5  1011    4.0\n",
      "3  1058    5.0\n",
      "4  1119    4.0\n",
      "6  1168    4.0\n",
      "2  1178    4.0\n"
     ]
    }
   ],
   "source": [
    "print(df[df['score']>=4])"
   ]
  },
  {
   "cell_type": "code",
   "execution_count": 26,
   "id": "93b2e6ca",
   "metadata": {},
   "outputs": [],
   "source": [
    "#add new column\n",
    "df['percentage']=df['score']*(100/5)"
   ]
  },
  {
   "cell_type": "code",
   "execution_count": 27,
   "id": "24c67bc9",
   "metadata": {},
   "outputs": [
    {
     "name": "stdout",
     "output_type": "stream",
     "text": [
      "   Roll  score  percentage\n",
      "5  1011    4.0        80.0\n",
      "3  1058    5.0       100.0\n",
      "1  1076    3.0        60.0\n",
      "4  1119    4.0        80.0\n",
      "7  1150    NaN         NaN\n",
      "8  1161    3.0        60.0\n",
      "6  1168    4.0        80.0\n",
      "2  1178    4.0        80.0\n"
     ]
    }
   ],
   "source": [
    "print(df)"
   ]
  },
  {
   "cell_type": "code",
   "execution_count": 28,
   "id": "5b03bd7e",
   "metadata": {},
   "outputs": [],
   "source": [
    "df['pass-fail']=np.where(df['score']>=4,'pass','fail')"
   ]
  },
  {
   "cell_type": "code",
   "execution_count": 29,
   "id": "25c9c593",
   "metadata": {},
   "outputs": [
    {
     "name": "stdout",
     "output_type": "stream",
     "text": [
      "   Roll  score  percentage pass-fail\n",
      "5  1011    4.0        80.0      pass\n",
      "3  1058    5.0       100.0      pass\n",
      "1  1076    3.0        60.0      fail\n",
      "4  1119    4.0        80.0      pass\n",
      "7  1150    NaN         NaN      fail\n",
      "8  1161    3.0        60.0      fail\n",
      "6  1168    4.0        80.0      pass\n",
      "2  1178    4.0        80.0      pass\n"
     ]
    }
   ],
   "source": [
    "print(df)"
   ]
  },
  {
   "cell_type": "code",
   "execution_count": 30,
   "id": "06707d0b",
   "metadata": {},
   "outputs": [],
   "source": [
    "## grouping and "
   ]
  },
  {
   "cell_type": "code",
   "execution_count": 31,
   "id": "159938b3",
   "metadata": {},
   "outputs": [
    {
     "name": "stdout",
     "output_type": "stream",
     "text": [
      "<pandas.core.groupby.generic.DataFrameGroupBy object at 0x000002D4CDA96410>\n"
     ]
    }
   ],
   "source": [
    "d=df.groupby(by=['score'])\n",
    "print(d)"
   ]
  },
  {
   "cell_type": "code",
   "execution_count": 32,
   "id": "6c7fd81b",
   "metadata": {},
   "outputs": [
    {
     "name": "stdout",
     "output_type": "stream",
     "text": [
      "       Roll  percentage pass-fail\n",
      "score                            \n",
      "3.0    1076        60.0      fail\n",
      "4.0    1011        80.0      pass\n",
      "5.0    1058       100.0      pass\n"
     ]
    }
   ],
   "source": [
    "print(d.first())"
   ]
  },
  {
   "cell_type": "code",
   "execution_count": 33,
   "id": "84e8fcd5",
   "metadata": {},
   "outputs": [
    {
     "name": "stdout",
     "output_type": "stream",
     "text": [
      "score\n",
      "3.0    120.0\n",
      "4.0    320.0\n",
      "5.0    100.0\n",
      "Name: percentage, dtype: float64\n"
     ]
    }
   ],
   "source": [
    "print(d['percentage'].sum())"
   ]
  },
  {
   "cell_type": "code",
   "execution_count": 34,
   "id": "40386713",
   "metadata": {},
   "outputs": [
    {
     "name": "stdout",
     "output_type": "stream",
     "text": [
      "score\n",
      "3.0    2\n",
      "4.0    4\n",
      "5.0    1\n",
      "Name: percentage, dtype: int64\n"
     ]
    }
   ],
   "source": [
    "print(d['percentage'].count())"
   ]
  },
  {
   "cell_type": "code",
   "execution_count": 35,
   "id": "7c1b5e3a",
   "metadata": {},
   "outputs": [
    {
     "name": "stdout",
     "output_type": "stream",
     "text": [
      "Roll          5\n",
      "score         5\n",
      "percentage    5\n",
      "pass-fail     5\n",
      "dtype: int64\n"
     ]
    }
   ],
   "source": [
    "print(df[df['pass-fail']=='pass'].count())"
   ]
  },
  {
   "cell_type": "code",
   "execution_count": 36,
   "id": "0facc539",
   "metadata": {},
   "outputs": [
    {
     "name": "stdout",
     "output_type": "stream",
     "text": [
      "Roll          3\n",
      "score         2\n",
      "percentage    2\n",
      "pass-fail     3\n",
      "dtype: int64\n"
     ]
    }
   ],
   "source": [
    "print(df[df['pass-fail']=='fail'].count())"
   ]
  },
  {
   "cell_type": "code",
   "execution_count": 37,
   "id": "7179e430",
   "metadata": {},
   "outputs": [],
   "source": [
    "lf=pd.read_csv('data.csv')"
   ]
  },
  {
   "cell_type": "code",
   "execution_count": 38,
   "id": "5b7ac1f0",
   "metadata": {},
   "outputs": [
    {
     "data": {
      "text/html": [
       "<div>\n",
       "<style scoped>\n",
       "    .dataframe tbody tr th:only-of-type {\n",
       "        vertical-align: middle;\n",
       "    }\n",
       "\n",
       "    .dataframe tbody tr th {\n",
       "        vertical-align: top;\n",
       "    }\n",
       "\n",
       "    .dataframe thead th {\n",
       "        text-align: right;\n",
       "    }\n",
       "</style>\n",
       "<table border=\"1\" class=\"dataframe\">\n",
       "  <thead>\n",
       "    <tr style=\"text-align: right;\">\n",
       "      <th></th>\n",
       "      <th>Roll</th>\n",
       "      <th>Score</th>\n",
       "    </tr>\n",
       "  </thead>\n",
       "  <tbody>\n",
       "    <tr>\n",
       "      <th>0</th>\n",
       "      <td>2005011</td>\n",
       "      <td>4.0</td>\n",
       "    </tr>\n",
       "    <tr>\n",
       "      <th>1</th>\n",
       "      <td>2005058</td>\n",
       "      <td>5.0</td>\n",
       "    </tr>\n",
       "    <tr>\n",
       "      <th>2</th>\n",
       "      <td>2005076</td>\n",
       "      <td>3.0</td>\n",
       "    </tr>\n",
       "    <tr>\n",
       "      <th>3</th>\n",
       "      <td>2005119</td>\n",
       "      <td>4.0</td>\n",
       "    </tr>\n",
       "    <tr>\n",
       "      <th>4</th>\n",
       "      <td>2005150</td>\n",
       "      <td>5.0</td>\n",
       "    </tr>\n",
       "    <tr>\n",
       "      <th>...</th>\n",
       "      <td>...</td>\n",
       "      <td>...</td>\n",
       "    </tr>\n",
       "    <tr>\n",
       "      <th>86</th>\n",
       "      <td>21053022</td>\n",
       "      <td>4.0</td>\n",
       "    </tr>\n",
       "    <tr>\n",
       "      <th>87</th>\n",
       "      <td>21053042</td>\n",
       "      <td>4.0</td>\n",
       "    </tr>\n",
       "    <tr>\n",
       "      <th>88</th>\n",
       "      <td>21053047</td>\n",
       "      <td>5.0</td>\n",
       "    </tr>\n",
       "    <tr>\n",
       "      <th>89</th>\n",
       "      <td>21053066</td>\n",
       "      <td>4.0</td>\n",
       "    </tr>\n",
       "    <tr>\n",
       "      <th>90</th>\n",
       "      <td>21053067</td>\n",
       "      <td>4.0</td>\n",
       "    </tr>\n",
       "  </tbody>\n",
       "</table>\n",
       "<p>91 rows × 2 columns</p>\n",
       "</div>"
      ],
      "text/plain": [
       "        Roll  Score\n",
       "0    2005011    4.0\n",
       "1    2005058    5.0\n",
       "2    2005076    3.0\n",
       "3    2005119    4.0\n",
       "4    2005150    5.0\n",
       "..       ...    ...\n",
       "86  21053022    4.0\n",
       "87  21053042    4.0\n",
       "88  21053047    5.0\n",
       "89  21053066    4.0\n",
       "90  21053067    4.0\n",
       "\n",
       "[91 rows x 2 columns]"
      ]
     },
     "execution_count": 38,
     "metadata": {},
     "output_type": "execute_result"
    }
   ],
   "source": [
    "lf"
   ]
  },
  {
   "cell_type": "code",
   "execution_count": 39,
   "id": "8adbc92e",
   "metadata": {},
   "outputs": [],
   "source": [
    "roll=lf[lf['Score'].isnull()]"
   ]
  },
  {
   "cell_type": "code",
   "execution_count": 40,
   "id": "ef48891c",
   "metadata": {},
   "outputs": [
    {
     "name": "stdout",
     "output_type": "stream",
     "text": [
      "23    2005521\n",
      "31    2005598\n",
      "38    2005704\n",
      "Name: Roll, dtype: int64\n"
     ]
    }
   ],
   "source": [
    "print(roll['Roll'])"
   ]
  },
  {
   "cell_type": "code",
   "execution_count": 41,
   "id": "480dda17",
   "metadata": {},
   "outputs": [],
   "source": [
    "lf['Score'] = np.where(lf['Score']>=60,'pass','fail')"
   ]
  },
  {
   "cell_type": "code",
   "execution_count": 44,
   "id": "e9e29c85",
   "metadata": {},
   "outputs": [],
   "source": [
    "\n",
    "lf['Score'] = pd.to_numeric(lf['Score'], errors='coerce')\n",
    "\n",
    "# Apply your operation\n",
    "lf['Score'] = lf['Score'].apply(lambda x: x + 1 if pd.notnull(x) and x <= 5 else x)\n"
   ]
  },
  {
   "cell_type": "code",
   "execution_count": 45,
   "id": "ef560b7e",
   "metadata": {},
   "outputs": [
    {
     "name": "stdout",
     "output_type": "stream",
     "text": [
      "        Roll  Score\n",
      "0    2005011    NaN\n",
      "1    2005058    NaN\n",
      "2    2005076    NaN\n",
      "3    2005119    NaN\n",
      "4    2005150    NaN\n",
      "..       ...    ...\n",
      "86  21053022    NaN\n",
      "87  21053042    NaN\n",
      "88  21053047    NaN\n",
      "89  21053066    NaN\n",
      "90  21053067    NaN\n",
      "\n",
      "[91 rows x 2 columns]\n"
     ]
    }
   ],
   "source": [
    "print(lf)"
   ]
  },
  {
   "cell_type": "code",
   "execution_count": 46,
   "id": "008a1ee9",
   "metadata": {},
   "outputs": [],
   "source": [
    "lf['Percentage'] = lf['Score']*(100/10)\n",
    "lf['Pass/Fail'] = np.where(lf['Percentage']>=60,'pass','fail')"
   ]
  },
  {
   "cell_type": "code",
   "execution_count": 47,
   "id": "c4bc1323",
   "metadata": {},
   "outputs": [
    {
     "name": "stdout",
     "output_type": "stream",
     "text": [
      "        Roll  Score  Percentage Pass/Fail\n",
      "0    2005011    NaN         NaN      fail\n",
      "1    2005058    NaN         NaN      fail\n",
      "2    2005076    NaN         NaN      fail\n",
      "3    2005119    NaN         NaN      fail\n",
      "4    2005150    NaN         NaN      fail\n",
      "..       ...    ...         ...       ...\n",
      "86  21053022    NaN         NaN      fail\n",
      "87  21053042    NaN         NaN      fail\n",
      "88  21053047    NaN         NaN      fail\n",
      "89  21053066    NaN         NaN      fail\n",
      "90  21053067    NaN         NaN      fail\n",
      "\n",
      "[91 rows x 4 columns]\n"
     ]
    }
   ],
   "source": [
    "print(lf)"
   ]
  },
  {
   "cell_type": "code",
   "execution_count": 48,
   "id": "03da583e",
   "metadata": {},
   "outputs": [
    {
     "name": "stdout",
     "output_type": "stream",
     "text": [
      "Number of students who got less than or equal to 30%: 0\n"
     ]
    }
   ],
   "source": [
    "students_less_than_30 = lf[lf['Percentage'] <= 30].shape[0]\n",
    "print(\"Number of students who got less than or equal to 30%:\", students_less_than_30)"
   ]
  },
  {
   "cell_type": "code",
   "execution_count": 49,
   "id": "37cc7822",
   "metadata": {},
   "outputs": [
    {
     "name": "stdout",
     "output_type": "stream",
     "text": [
      "Number of students who got more than or equal to 80%: 0\n"
     ]
    }
   ],
   "source": [
    "num_students_more_than_80 = lf[lf['Percentage'] >= 80].shape[0]\n",
    "print(\"Number of students who got more than or equal to 80%:\", num_students_more_than_80)"
   ]
  },
  {
   "cell_type": "code",
   "execution_count": null,
   "id": "7a889793",
   "metadata": {},
   "outputs": [],
   "source": []
  }
 ],
 "metadata": {
  "kernelspec": {
   "display_name": "Python 3 (ipykernel)",
   "language": "python",
   "name": "python3"
  },
  "language_info": {
   "codemirror_mode": {
    "name": "ipython",
    "version": 3
   },
   "file_extension": ".py",
   "mimetype": "text/x-python",
   "name": "python",
   "nbconvert_exporter": "python",
   "pygments_lexer": "ipython3",
   "version": "3.10.13"
  }
 },
 "nbformat": 4,
 "nbformat_minor": 5
}
