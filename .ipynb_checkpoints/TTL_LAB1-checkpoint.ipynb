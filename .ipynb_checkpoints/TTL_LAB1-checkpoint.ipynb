{
 "cells": [
  {
   "cell_type": "markdown",
   "metadata": {},
   "source": [
    "#                 Name-Abhishek Kumar\n",
    " #                Roll-2105598\n",
    " #                Lab-1"
   ]
  },
  {
   "cell_type": "code",
   "execution_count": null,
   "metadata": {
    "colab": {
     "base_uri": "https://localhost:8080/"
    },
    "executionInfo": {
     "elapsed": 22,
     "status": "ok",
     "timestamp": 1704860676348,
     "user": {
      "displayName": "Abhishek Kumar",
      "userId": "11895974068270144117"
     },
     "user_tz": -330
    },
    "id": "9tERd54oXr26",
    "outputId": "4ac9a3f7-38bf-4a52-8bd7-fc744a60d05f"
   },
   "outputs": [],
   "source": [
    "Num =10\n",
    "print(Num)"
   ]
  },
  {
   "cell_type": "code",
   "execution_count": 40,
   "metadata": {
    "colab": {
     "base_uri": "https://localhost:8080/"
    },
    "executionInfo": {
     "elapsed": 8,
     "status": "ok",
     "timestamp": 1704860335514,
     "user": {
      "displayName": "Abhishek Kumar",
      "userId": "11895974068270144117"
     },
     "user_tz": -330
    },
    "id": "UP-FO5tuYbCO",
    "outputId": "8002d02c-ff0d-4d27-b370-5fcbeb265cea"
   },
   "outputs": [
    {
     "name": "stdout",
     "output_type": "stream",
     "text": [
      "21\n"
     ]
    }
   ],
   "source": [
    "Num1=10\n",
    "Num2=11\n",
    "Sum=Num1+Num2\n",
    "print (Sum)"
   ]
  },
  {
   "cell_type": "code",
   "execution_count": 39,
   "metadata": {
    "colab": {
     "base_uri": "https://localhost:8080/"
    },
    "executionInfo": {
     "elapsed": 9,
     "status": "ok",
     "timestamp": 1704860330994,
     "user": {
      "displayName": "Abhishek Kumar",
      "userId": "11895974068270144117"
     },
     "user_tz": -330
    },
    "id": "-ri4_JXqZf58",
    "outputId": "23d4313f-930c-45f1-b612-a25f717b0423"
   },
   "outputs": [
    {
     "name": "stdout",
     "output_type": "stream",
     "text": [
      "12.56\n"
     ]
    }
   ],
   "source": [
    "R=4\n",
    "Area=3.14*R\n",
    "print(Area)"
   ]
  },
  {
   "cell_type": "code",
   "execution_count": null,
   "metadata": {
    "colab": {
     "base_uri": "https://localhost:8080/"
    },
    "executionInfo": {
     "elapsed": 4990,
     "status": "ok",
     "timestamp": 1704857740604,
     "user": {
      "displayName": "Abhishek Kumar",
      "userId": "11895974068270144117"
     },
     "user_tz": -330
    },
    "id": "xJAKRyysZ9V6",
    "outputId": "c97f4f49-a75d-4310-8c73-f669ff586885"
   },
   "outputs": [
    {
     "name": "stdout",
     "output_type": "stream",
     "text": [
      "550\n",
      "5 rupee 50 paisa\n"
     ]
    }
   ],
   "source": [
    "Paisa=int(input())\n",
    "Rupaya=int(Paisa/100)\n",
    "P=Paisa%100\n",
    "print(f\"{Rupaya} rupee {P} paisa\")"
   ]
  },
  {
   "cell_type": "code",
   "execution_count": null,
   "metadata": {
    "colab": {
     "base_uri": "https://localhost:8080/"
    },
    "executionInfo": {
     "elapsed": 7514,
     "status": "ok",
     "timestamp": 1704857893558,
     "user": {
      "displayName": "Abhishek Kumar",
      "userId": "11895974068270144117"
     },
     "user_tz": -330
    },
    "id": "QaXKu-b-cK47",
    "outputId": "a5847009-1680-4dad-cae0-9ffb422371cd"
   },
   "outputs": [
    {
     "name": "stdout",
     "output_type": "stream",
     "text": [
      "Enter num1 55\n",
      "Enter num1 1\n",
      "55\n"
     ]
    }
   ],
   "source": [
    "Num1=int(input('Enter num1 '))\n",
    "Num2=int(input('Enter num1 '))\n",
    "if(Num1>Num2):\n",
    "    print(Num1)\n",
    "else:\n",
    "    print(Num2)"
   ]
  },
  {
   "cell_type": "code",
   "execution_count": null,
   "metadata": {
    "colab": {
     "base_uri": "https://localhost:8080/"
    },
    "executionInfo": {
     "elapsed": 4504,
     "status": "ok",
     "timestamp": 1704858024648,
     "user": {
      "displayName": "Abhishek Kumar",
      "userId": "11895974068270144117"
     },
     "user_tz": -330
    },
    "id": "T3rtdBD4c0FS",
    "outputId": "119218d3-c6e4-4244-9056-b14f76681f41"
   },
   "outputs": [
    {
     "name": "stdout",
     "output_type": "stream",
     "text": [
      "Enter num 77\n",
      "Odd\n"
     ]
    }
   ],
   "source": [
    "Num=int(input('Enter num '))\n",
    "if(Num%2==0):\n",
    "  print('Even')\n",
    "else:\n",
    "   print('Odd')"
   ]
  },
  {
   "cell_type": "code",
   "execution_count": null,
   "metadata": {
    "id": "V3eaJxbydP8a"
   },
   "outputs": [],
   "source": [
    "Year=int(input('Enter Year'))\n",
    "if((Year % 400 == 0)or\n",
    "     (Year % 100 != 0) and\n",
    "    (Year % 4 == 0)):\n",
    "    print(\"leap Year\");\n",
    "else:\n",
    "    print(\"not a leap Year\")"
   ]
  },
  {
   "cell_type": "code",
   "execution_count": null,
   "metadata": {
    "colab": {
     "base_uri": "https://localhost:8080/"
    },
    "executionInfo": {
     "elapsed": 5730,
     "status": "ok",
     "timestamp": 1704858830209,
     "user": {
      "displayName": "Abhishek Kumar",
      "userId": "11895974068270144117"
     },
     "user_tz": -330
    },
    "id": "C4uwZGvOdxlW",
    "outputId": "4147756a-383d-45ca-f5b6-5093b9c4347b"
   },
   "outputs": [
    {
     "name": "stdout",
     "output_type": "stream",
     "text": [
      "Enter your marks: 88\n",
      "E\n"
     ]
    }
   ],
   "source": [
    "\n",
    "marks = int(input('Enter your marks: '))\n",
    "\n",
    "if marks >= 90:\n",
    "    print('O')\n",
    "elif marks >= 80:\n",
    "    print('E')\n",
    "elif marks >= 70:\n",
    "    print('A')\n",
    "elif marks >= 60:\n",
    "    print('B')\n",
    "elif marks >= 50:\n",
    "    print('C')\n",
    "elif marks >= 40:\n",
    "    print('D')\n",
    "else:\n",
    "    print('Fail')"
   ]
  }
 ],
 "metadata": {
  "colab": {
   "authorship_tag": "ABX9TyPvtCc72BZwbUqSHwmdX9iv",
   "provenance": []
  },
  "kernelspec": {
   "display_name": "Python 3 (ipykernel)",
   "language": "python",
   "name": "python3"
  },
  "language_info": {
   "codemirror_mode": {
    "name": "ipython",
    "version": 3
   },
   "file_extension": ".py",
   "mimetype": "text/x-python",
   "name": "python",
   "nbconvert_exporter": "python",
   "pygments_lexer": "ipython3",
   "version": "3.10.9"
  }
 },
 "nbformat": 4,
 "nbformat_minor": 1
}
