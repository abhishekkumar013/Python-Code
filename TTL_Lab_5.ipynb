{
 "cells": [
  {
   "cell_type": "markdown",
   "id": "2456c66b",
   "metadata": {},
   "source": [
    "## Name-Abhishek Kumar\n",
    "## Roll-2105598"
   ]
  },
  {
   "cell_type": "code",
   "execution_count": 1,
   "id": "c9042e5f",
   "metadata": {},
   "outputs": [
    {
     "name": "stdout",
     "output_type": "stream",
     "text": [
      "[10, 20, 30, 40, 50]\n",
      "[10, 20, 30, 40, 50, 60]\n",
      "[10, 20, 15, 30, 40, 50, 60]\n",
      "[20, 15, 30, 40, 50, 60]\n",
      "Removed element: 10\n",
      "[20, 15, 40, 50, 60]\n",
      "First element: 20\n",
      "List length: 5\n",
      "20\n",
      "15\n",
      "40\n",
      "50\n",
      "60\n"
     ]
    }
   ],
   "source": [
    "#Create a list of numbers and perform various operations such as adding elements, removing elements, and accessing elements by index.\n",
    "numbers = [10, 20, 30, 40, 50]\n",
    "\n",
    "print(numbers)\n",
    "\n",
    "\n",
    "numbers.append(60)\n",
    "print(numbers)\n",
    "\n",
    "numbers.insert(2, 15)\n",
    "print(numbers)\n",
    "\n",
    "removed_element = numbers.pop(0)\n",
    "print(numbers)\n",
    "print(\"Removed element:\", removed_element)\n",
    "\n",
    "numbers.remove(30)\n",
    "print(numbers)\n",
    "\n",
    "first_element = numbers[0]\n",
    "print(\"First element:\", first_element)\n",
    "\n",
    "\n",
    "list_length = len(numbers)\n",
    "print(\"List length:\", list_length)\n",
    "\n",
    "\n",
    "for number in numbers:\n",
    "    print(number)"
   ]
  },
  {
   "cell_type": "code",
   "execution_count": 2,
   "id": "1954d686",
   "metadata": {},
   "outputs": [
    {
     "name": "stdout",
     "output_type": "stream",
     "text": [
      "(10, 20, 30, 40, 50)\n",
      "First element: 10\n",
      "Tuple length: 5\n",
      "10\n",
      "20\n",
      "30\n",
      "40\n",
      "50\n",
      "Combined tuple: (10, 20, 30, 40, 50, 60, 70)\n"
     ]
    }
   ],
   "source": [
    "#Create a tuple to represent an immutable collection and try accessing elements and performing basic operations.\n",
    "numbers_tuple = (10, 20, 30, 40, 50)\n",
    "\n",
    "print(numbers_tuple)\n",
    "\n",
    "first_element = numbers_tuple[0]\n",
    "print(\"First element:\", first_element)\n",
    "\n",
    "\n",
    "tuple_length = len(numbers_tuple)\n",
    "print(\"Tuple length:\", tuple_length)\n",
    "\n",
    "\n",
    "for number in numbers_tuple:\n",
    "    print(number)\n",
    "\n",
    "combined_tuple = numbers_tuple + (60, 70)\n",
    "print(\"Combined tuple:\", combined_tuple)"
   ]
  },
  {
   "cell_type": "code",
   "execution_count": 3,
   "id": "d1882e24",
   "metadata": {},
   "outputs": [
    {
     "name": "stdout",
     "output_type": "stream",
     "text": [
      "{50, 20, 40, 10, 30}\n",
      "{50, 20, 40, 10, 60, 30}\n",
      "{50, 20, 40, 10, 60}\n",
      "40 exists in the set\n",
      "Union: {'c', 50, 20, 'a', 40, 'b', 10, 60}\n",
      "Intersection: set()\n",
      "Difference: {40, 10, 50, 20, 60}\n"
     ]
    }
   ],
   "source": [
    "#Create a set to store unique elements and perform set operations such as union, intersection,and difference.\n",
    "numbers_set = {10, 20, 30, 40, 50, 20}\n",
    "\n",
    "print(numbers_set)\n",
    "\n",
    "numbers_set.add(60)\n",
    "print(numbers_set)\n",
    "\n",
    "numbers_set.remove(30)\n",
    "print(numbers_set)\n",
    "\n",
    "\n",
    "if 40 in numbers_set:\n",
    "    print(\"40 exists in the set\")\n",
    "\n",
    "\n",
    "letters_set = {'a', 'b', 'c'}\n",
    "\n",
    "\n",
    "combined_set = numbers_set | letters_set\n",
    "print(\"Union:\", combined_set)\n",
    "\n",
    "\n",
    "common_elements = numbers_set & letters_set\n",
    "print(\"Intersection:\", common_elements)\n",
    "\n",
    "\n",
    "difference_set = numbers_set - letters_set\n",
    "print(\"Difference:\", difference_set)"
   ]
  },
  {
   "cell_type": "code",
   "execution_count": 4,
   "id": "ccdb60e1",
   "metadata": {},
   "outputs": [
    {
     "name": "stdout",
     "output_type": "stream",
     "text": [
      "{'name': 'John Doe', 'age': 30, 'city': 'New York'}\n",
      "Name: John Doe\n",
      "{'name': 'John Doe', 'age': 30, 'city': 'New York', 'occupation': 'Software Engineer'}\n",
      "{'name': 'John Doe', 'age': 31, 'city': 'New York', 'occupation': 'Software Engineer'}\n",
      "City exists in the dictionary\n",
      "{'name': 'John Doe', 'city': 'New York', 'occupation': 'Software Engineer'}\n",
      "name: John Doe\n",
      "city: New York\n",
      "occupation: Software Engineer\n"
     ]
    }
   ],
   "source": [
    "#Create a dictionary to represent key-value pairs and perform operations like adding, updating,and accessing values.\n",
    "person_info = {\n",
    "    \"name\": \"John Doe\",\n",
    "    \"age\": 30,\n",
    "    \"city\": \"New York\"\n",
    "}\n",
    "\n",
    "print(person_info)\n",
    "\n",
    "name = person_info[\"name\"]\n",
    "print(\"Name:\", name)\n",
    "\n",
    "person_info[\"occupation\"] = \"Software Engineer\"\n",
    "print(person_info)\n",
    "\n",
    "person_info[\"age\"] = 31\n",
    "print(person_info)\n",
    "\n",
    "if \"city\" in person_info:\n",
    "    print(\"City exists in the dictionary\")\n",
    "\n",
    "\n",
    "del person_info[\"age\"]\n",
    "print(person_info)\n",
    "\n",
    "\n",
    "for key, value in person_info.items():\n",
    "    print(f\"{key}: {value}\")"
   ]
  },
  {
   "cell_type": "code",
   "execution_count": null,
   "id": "04f372b4",
   "metadata": {},
   "outputs": [],
   "source": []
  }
 ],
 "metadata": {
  "kernelspec": {
   "display_name": "Python 3 (ipykernel)",
   "language": "python",
   "name": "python3"
  },
  "language_info": {
   "codemirror_mode": {
    "name": "ipython",
    "version": 3
   },
   "file_extension": ".py",
   "mimetype": "text/x-python",
   "name": "python",
   "nbconvert_exporter": "python",
   "pygments_lexer": "ipython3",
   "version": "3.10.13"
  }
 },
 "nbformat": 4,
 "nbformat_minor": 5
}
