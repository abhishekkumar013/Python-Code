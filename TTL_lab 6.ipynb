{
 "cells": [
  {
   "cell_type": "markdown",
   "id": "ab597850",
   "metadata": {},
   "source": [
    "## Name-Abhishek Kumar\n",
    "## Roll-2105598"
   ]
  },
  {
   "cell_type": "code",
   "execution_count": 2,
   "id": "acf3f593",
   "metadata": {},
   "outputs": [],
   "source": [
    "import numpy as np"
   ]
  },
  {
   "cell_type": "code",
   "execution_count": 3,
   "id": "60402479",
   "metadata": {},
   "outputs": [
    {
     "name": "stdout",
     "output_type": "stream",
     "text": [
      "[1, 2, 3, 4]\n",
      "[1 2 3 4]\n"
     ]
    }
   ],
   "source": [
    "#Create NumPy arrays and matrices with following methods\n",
    "a=[1,2,3,4]\n",
    "na=np.array(a)\n",
    "\n",
    "print(a)\n",
    "print(na)"
   ]
  },
  {
   "cell_type": "code",
   "execution_count": 4,
   "id": "535929c2",
   "metadata": {},
   "outputs": [
    {
     "data": {
      "text/plain": [
       "numpy.ndarray"
      ]
     },
     "execution_count": 4,
     "metadata": {},
     "output_type": "execute_result"
    }
   ],
   "source": [
    "type(na)"
   ]
  },
  {
   "cell_type": "code",
   "execution_count": 7,
   "id": "4c1b8974",
   "metadata": {},
   "outputs": [
    {
     "name": "stdout",
     "output_type": "stream",
     "text": [
      "[[1 2 3]\n",
      " [4 5 6]]\n"
     ]
    }
   ],
   "source": [
    "# list\n",
    "\n",
    "list=[[1,2,3],[4,5,6]]\n",
    "na2=np.array(list)\n",
    "print(na2)"
   ]
  },
  {
   "cell_type": "code",
   "execution_count": 11,
   "id": "0b82da98",
   "metadata": {},
   "outputs": [
    {
     "name": "stdout",
     "output_type": "stream",
     "text": [
      "[[0. 0. 0.]\n",
      " [0. 0. 0.]]\n"
     ]
    }
   ],
   "source": [
    "#assign np array with all 0\n",
    "na=np.zeros((2,3))\n",
    "print(na)"
   ]
  },
  {
   "cell_type": "code",
   "execution_count": 12,
   "id": "21a0332d",
   "metadata": {},
   "outputs": [
    {
     "name": "stdout",
     "output_type": "stream",
     "text": [
      "[0. 0. 0.]\n"
     ]
    }
   ],
   "source": [
    "na=np.zeros((3))\n",
    "print(na)"
   ]
  },
  {
   "cell_type": "code",
   "execution_count": 13,
   "id": "84b18975",
   "metadata": {},
   "outputs": [
    {
     "name": "stdout",
     "output_type": "stream",
     "text": [
      "[[1. 1. 1.]\n",
      " [1. 1. 1.]]\n"
     ]
    }
   ],
   "source": [
    "#assign np array with all ones(1)\n",
    "na=np.ones((2,3))\n",
    "print(na)"
   ]
  },
  {
   "cell_type": "code",
   "execution_count": 15,
   "id": "e79f98a4",
   "metadata": {},
   "outputs": [
    {
     "name": "stdout",
     "output_type": "stream",
     "text": [
      "[1. 1. 1.]\n"
     ]
    }
   ],
   "source": [
    "na=np.ones(3)\n",
    "print(na)"
   ]
  },
  {
   "cell_type": "code",
   "execution_count": 22,
   "id": "b77dc9d9",
   "metadata": {},
   "outputs": [
    {
     "name": "stdout",
     "output_type": "stream",
     "text": [
      "Sum\n",
      "[[ 2  5  6]\n",
      " [ 9  9 17]\n",
      " [18  9  9]]\n",
      "Sub\n",
      "[[ 0  1  0]\n",
      " [ 1 -1 -1]\n",
      " [ 0  5 -5]]\n",
      "Mul\n",
      "[[ 1  6  9]\n",
      " [20 20 72]\n",
      " [81 14 14]]\n",
      "Div\n",
      "[[1.         1.5        1.        ]\n",
      " [1.25       0.8        0.88888889]\n",
      " [1.         3.5        0.28571429]]\n"
     ]
    }
   ],
   "source": [
    "#Perform mathematical operations on NumPy matrices (addition, subtraction,multiplication, division, matrix maltiplication)\n",
    "a1=[[1,3,3],[5,4,8],[9,7,2]]\n",
    "a2=[[1,2,3],[4,5,9],[9,2,7]]\n",
    "arr1=np.array(a1)\n",
    "arr2=np.array(a2)\n",
    "\n",
    "print('Sum')\n",
    "print(arr1+arr2)\n",
    "print('Sub')\n",
    "print(arr1-arr2)\n",
    "print('Mul')\n",
    "print(arr1*arr2) # n*m m*p -col of first array must equal to row of 2nd array\n",
    "print('Div')\n",
    "print(arr1/arr2)"
   ]
  },
  {
   "cell_type": "code",
   "execution_count": 23,
   "id": "5c88f11f",
   "metadata": {},
   "outputs": [
    {
     "name": "stdout",
     "output_type": "stream",
     "text": [
      "[[ 40  23  51]\n",
      " [ 93  46 107]\n",
      " [ 55  57 104]]\n"
     ]
    }
   ],
   "source": [
    "print(np.matmul(arr1,arr2))"
   ]
  },
  {
   "cell_type": "code",
   "execution_count": 26,
   "id": "ac3dd21d",
   "metadata": {},
   "outputs": [
    {
     "name": "stdout",
     "output_type": "stream",
     "text": [
      "1\n",
      "10\n",
      "3\n"
     ]
    }
   ],
   "source": [
    "arr=np.array([1,2,3,10,5,3])\n",
    "\n",
    "print(np.amin(arr))\n",
    "print(np.amax(arr))\n",
    "print(np.argmax(arr))"
   ]
  },
  {
   "cell_type": "code",
   "execution_count": 39,
   "id": "2af4bd0c",
   "metadata": {},
   "outputs": [
    {
     "name": "stdout",
     "output_type": "stream",
     "text": [
      "[[ 1]\n",
      " [ 2]\n",
      " [ 3]\n",
      " [ 4]\n",
      " [ 5]\n",
      " [ 6]\n",
      " [ 7]\n",
      " [ 8]\n",
      " [10]]\n"
     ]
    }
   ],
   "source": [
    "arr=np.array([[1,2,3],[4,5,6],[7,8,10]])\n",
    "print(arr.reshape(9,1))"
   ]
  },
  {
   "cell_type": "code",
   "execution_count": 38,
   "id": "c3871e0e",
   "metadata": {},
   "outputs": [
    {
     "name": "stdout",
     "output_type": "stream",
     "text": [
      "[[1 2 3 4 5 6 7 8 9]]\n"
     ]
    }
   ],
   "source": [
    "arr=np.array([[1,2,3],[4,5,6],[7,8,9]])\n",
    "print(arr.reshape(1,9))"
   ]
  },
  {
   "cell_type": "code",
   "execution_count": 62,
   "id": "7d578da9",
   "metadata": {},
   "outputs": [
    {
     "name": "stdout",
     "output_type": "stream",
     "text": [
      "['Roll', '2005011', '2005058', '2005076', '2005119', '2005150', '2005161', '2005168', '2005178', '2005179', '2005198', '2005270', '2005278', '2005288', '2005289', '2005312', '2005324', '2005326', '2005332', '2005343', '2005407', '2005439', '2005444', '2005473', '2005521', '2005548', '2005554', '2005574', '2005578', '2005585', '2005590', '2005597', '2005598', '2005601', '2005603', '2005608', '2005628', '2005631', '2005645', '2005704', '2005718', '2005721', '2005849', '2005904', '2005909', '2005929', '2005955', '2005979', '20051001', '20051023', '20051042', '20051049', '20051105', '20051122', '20051143', '20051164', '20051167', '20051174', '20051182', '20051254', '20051329', '20051351', '20051359', '20051362', '20051388', '20051397', '20051420', '20051433', '20051467', '20051473', '20051510', '20051552', '20051562', '20051614', '20051633', '20051805', '20051855', '20051866', '20051868', '20051872', '20051888', '20051903', '20051915', '20051962', '20051981', '21053002', '21053015', '21053022', '21053042', '21053047', '21053066', '21053067']\n",
      "['Score', '4', '5', '3', '4', '5', '3', '4', '4', '5', '3', '4', '5', '4', '3', '4', '5', '4', '3', '4', '5', '3', '4', '5', '4', '3', '4', '5', '4', '5', '3', '4', '4', '5', '4', '4', '3', '3', '9', '5', '4', '5', '4', '3', '4', '5', '3', '4', '5', '4', '3', '4', '4', '3', '3', '4', '4', '4', '5', '5', '5', '4', '4', '4', '3', '4', '4', '5', '4', '4', '3', '3', '3', '4', '4', '5', '4', '4', '3', '3', '4', '3', '5', '4', '4', '3', '4', '4', '4', '5', '4', '4']\n"
     ]
    }
   ],
   "source": [
    "#assigment\n",
    "roll=[]\n",
    "score=[]\n",
    "\n",
    "file=open('data.txt','r')\n",
    "for line in file.readlines():\n",
    "    roll.append(line.split('\\t')[0])\n",
    "    score.append(line.split('\\t')[1].rstrip('\\n'))\n",
    "\n",
    "print(roll)\n",
    "print(score)"
   ]
  },
  {
   "cell_type": "code",
   "execution_count": 63,
   "id": "891ad347",
   "metadata": {},
   "outputs": [
    {
     "name": "stdout",
     "output_type": "stream",
     "text": [
      "Serial numbers of students who got 5 marks: ['2005058' '2005150' '2005179' '2005278' '2005324' '2005407' '2005473'\n",
      " '2005574' '2005585' '2005601' '2005704' '2005721' '2005929' '20051001'\n",
      " '20051182' '20051254' '20051329' '20051433' '20051805' '20051915'\n",
      " '21053047']\n"
     ]
    }
   ],
   "source": [
    "roll_numbers = np.array(roll)\n",
    "marks = np.array(score)\n",
    "\n",
    "# a. Find the serial number of the students who have got 5 marks\n",
    "students_with_5_marks = roll_numbers[marks == '5']\n",
    "print(\"Serial numbers of students who got 5 marks:\", students_with_5_marks)"
   ]
  },
  {
   "cell_type": "code",
   "execution_count": 68,
   "id": "77d1209e",
   "metadata": {},
   "outputs": [
    {
     "name": "stdout",
     "output_type": "stream",
     "text": [
      "['Roll' '2005011' '2005058' '2005076' '2005119' '2005150' '2005161'\n",
      " '2005168' '2005178' '2005179' '2005198' '2005270' '2005278' '2005288'\n",
      " '2005289' '2005312' '2005324' '2005326' '2005332' '2005343' '2005407'\n",
      " '2005439' '2005444' '2005473' '2005521' '2005548' '2005554' '2005574'\n",
      " '2005578' '2005585' '2005590' '2005597' '2005598' '2005601' '2005603'\n",
      " '2005608' '2005628' '2005631' '2005645' '2005704' '2005718' '2005721'\n",
      " '2005849' '2005904' '2005909' '2005929' '2005955' '2005979' '20051001'\n",
      " '20051023' '20051042' '20051049' '20051105' '20051122' '20051143'\n",
      " '20051164' '20051167' '20051174' '20051182' '20051254' '20051329'\n",
      " '20051351' '20051359' '20051362' '20051388' '20051397' '20051420'\n",
      " '20051433' '20051467' '20051473' '20051510' '20051552' '20051562'\n",
      " '20051614' '20051633' '20051805' '20051855' '20051866' '20051868'\n",
      " '20051872' '20051888' '20051903' '20051915' '20051962' '20051981'\n",
      " '21053002' '21053015' '21053022' '21053042' '21053047' '21053066'\n",
      " '21053067']\n"
     ]
    }
   ],
   "source": [
    "print(roll_numbers)"
   ]
  },
  {
   "cell_type": "code",
   "execution_count": 74,
   "id": "d88a4ea5",
   "metadata": {},
   "outputs": [
    {
     "name": "stdout",
     "output_type": "stream",
     "text": [
      "Roll numbers in interval [2, 4):\n",
      "['2005058' '2005076']\n",
      "\n",
      "Roll numbers in interval [4, 6):\n",
      "['2005119' '2005150']\n",
      "\n",
      "Roll numbers in interval [6, 10):\n",
      "['2005161' '2005168' '2005178' '2005179']\n",
      "\n"
     ]
    }
   ],
   "source": [
    "intervals = [2,4,6,10]\n",
    "\n",
    "for i in range(len(intervals) - 1):\n",
    "    start = intervals[i]\n",
    "    end = intervals[i + 1]\n",
    "    print(\"Roll numbers in interval\", f\"[{start}, {end}):\")\n",
    "    print(roll_numbers[start:end])\n",
    "    print()"
   ]
  },
  {
   "cell_type": "code",
   "execution_count": 75,
   "id": "9a16d9a6",
   "metadata": {},
   "outputs": [
    {
     "name": "stdout",
     "output_type": "stream",
     "text": [
      "Student with maximum marks:\n",
      "Serial number: Score\n",
      "Roll number: Roll\n"
     ]
    }
   ],
   "source": [
    "max_mark_index = np.argmax(marks)\n",
    "max_serial_number = serial_numbers[max_mark_index]\n",
    "max_roll_number = roll_numbers[max_mark_index]\n",
    "print(\"Student with maximum marks:\")\n",
    "print(\"Serial number:\", max_serial_number)\n",
    "print(\"Roll number:\", max_roll_number)"
   ]
  },
  {
   "cell_type": "code",
   "execution_count": 51,
   "id": "3ef85148",
   "metadata": {},
   "outputs": [
    {
     "name": "stdout",
     "output_type": "stream",
     "text": [
      "Arange array:\n",
      "[0 1 2 3 4 5 6 7 8 9]\n",
      "\n",
      "Arange array with step:\n",
      "[ 2  4  6  8 10]\n"
     ]
    }
   ],
   "source": [
    "arange_array = np.arange(10)\n",
    "\n",
    "arange_array_step = np.arange(2, 11, 2)\n",
    "\n",
    "print(\"Arange array:\")\n",
    "print(arange_array)\n",
    "print(\"\\nArange array with step:\")\n",
    "print(arange_array_step)"
   ]
  },
  {
   "cell_type": "code",
   "execution_count": null,
   "id": "a14704e4",
   "metadata": {},
   "outputs": [],
   "source": []
  }
 ],
 "metadata": {
  "kernelspec": {
   "display_name": "Python 3 (ipykernel)",
   "language": "python",
   "name": "python3"
  },
  "language_info": {
   "codemirror_mode": {
    "name": "ipython",
    "version": 3
   },
   "file_extension": ".py",
   "mimetype": "text/x-python",
   "name": "python",
   "nbconvert_exporter": "python",
   "pygments_lexer": "ipython3",
   "version": "3.10.13"
  }
 },
 "nbformat": 4,
 "nbformat_minor": 5
}
