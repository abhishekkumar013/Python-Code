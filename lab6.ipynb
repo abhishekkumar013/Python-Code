{
 "cells": [
  {
   "cell_type": "code",
   "execution_count": 1,
   "id": "64b3d3db-ea14-4e52-adb5-0f81a420f8d4",
   "metadata": {},
   "outputs": [],
   "source": [
    "import numpy as np"
   ]
  },
  {
   "cell_type": "code",
   "execution_count": 2,
   "id": "241722dc-d150-4a56-9f18-024fd25a67a4",
   "metadata": {},
   "outputs": [
    {
     "name": "stdout",
     "output_type": "stream",
     "text": [
      "Array from list:\n",
      "[1 2 3 4 5]\n",
      "\n",
      "Matrix from list:\n",
      "[[1 2 3]\n",
      " [4 5 6]\n",
      " [7 8 9]]\n"
     ]
    }
   ],
   "source": [
    "import numpy as np\n",
    "\n",
    "# Creating a 1D array from a list\n",
    "array_from_list = np.array([1, 2, 3, 4, 5])\n",
    "\n",
    "# Creating a 2D matrix from a list of lists\n",
    "matrix_from_list = np.array([[1, 2, 3], [4, 5, 6], [7, 8, 9]])\n",
    "\n",
    "print(\"Array from list:\")\n",
    "print(array_from_list)\n",
    "\n",
    "print(\"\\nMatrix from list:\")\n",
    "print(matrix_from_list)\n"
   ]
  },
  {
   "cell_type": "code",
   "execution_count": 3,
   "id": "1ed41be3-5b24-4d30-b077-958bfcd11ede",
   "metadata": {},
   "outputs": [
    {
     "name": "stdout",
     "output_type": "stream",
     "text": [
      "Zeros array:\n",
      "[0. 0. 0. 0. 0.]\n",
      "\n",
      "Zeros matrix:\n",
      "[[0. 0. 0. 0.]\n",
      " [0. 0. 0. 0.]\n",
      " [0. 0. 0. 0.]]\n"
     ]
    }
   ],
   "source": [
    "import numpy as np\n",
    "\n",
    "# Creating a 1D array with zeros\n",
    "zeros_array = np.zeros(5)\n",
    "\n",
    "# Creating a 2D matrix with zeros\n",
    "zeros_matrix = np.zeros((3, 4))\n",
    "\n",
    "print(\"Zeros array:\")\n",
    "print(zeros_array)\n",
    "\n",
    "print(\"\\nZeros matrix:\")\n",
    "print(zeros_matrix)\n"
   ]
  },
  {
   "cell_type": "code",
   "execution_count": 4,
   "id": "51ba4038-b79c-4a19-b787-95a0720ad24e",
   "metadata": {},
   "outputs": [
    {
     "name": "stdout",
     "output_type": "stream",
     "text": [
      "Ones array:\n",
      "[1. 1. 1. 1.]\n",
      "\n",
      "Ones matrix:\n",
      "[[1. 1. 1.]\n",
      " [1. 1. 1.]]\n"
     ]
    }
   ],
   "source": [
    "import numpy as np\n",
    "\n",
    "# Creating a 1D array with ones\n",
    "ones_array = np.ones(4)\n",
    "\n",
    "# Creating a 2D matrix with ones\n",
    "ones_matrix = np.ones((2, 3))\n",
    "\n",
    "print(\"Ones array:\")\n",
    "print(ones_array)\n",
    "\n",
    "print(\"\\nOnes matrix:\")\n",
    "print(ones_matrix)\n"
   ]
  },
  {
   "cell_type": "code",
   "execution_count": 5,
   "id": "0516cb49-868f-4102-b8d8-e2fe87a44ab0",
   "metadata": {},
   "outputs": [
    {
     "name": "stdout",
     "output_type": "stream",
     "text": [
      "Arange array:\n",
      "[0 2 4 6 8]\n"
     ]
    }
   ],
   "source": [
    "import numpy as np\n",
    "\n",
    "# Creating a 1D array using arange\n",
    "arange_array = np.arange(0, 10, 2)  # start, stop, step\n",
    "\n",
    "print(\"Arange array:\")\n",
    "print(arange_array)\n"
   ]
  },
  {
   "cell_type": "code",
   "execution_count": 6,
   "id": "7da021db-84a3-4eb0-91ac-f6d3fa3d06d3",
   "metadata": {},
   "outputs": [
    {
     "name": "stdout",
     "output_type": "stream",
     "text": [
      "Addition (A + B):\n",
      " [[10 10 10]\n",
      " [10 10 10]\n",
      " [10 10 10]]\n",
      "\n",
      "Subtraction (A - B):\n",
      " [[-8 -6 -4]\n",
      " [-2  0  2]\n",
      " [ 4  6  8]]\n",
      "\n",
      "Multiplication (A * B):\n",
      " [[ 30  24  18]\n",
      " [ 84  69  54]\n",
      " [138 114  90]]\n",
      "\n",
      "Division (A / B):\n",
      " [[0.11111111 0.25       0.42857143]\n",
      " [0.66666667 1.         1.5       ]\n",
      " [2.33333333 4.         9.        ]]\n",
      "\n",
      "Matrix Multiplication (A @ B):\n",
      " [[ 30  24  18]\n",
      " [ 84  69  54]\n",
      " [138 114  90]]\n"
     ]
    }
   ],
   "source": [
    "import numpy as np\n",
    "\n",
    "# Define the matrices A and B\n",
    "matrix_a = np.array([[1, 2, 3],\n",
    "                     [4, 5, 6],\n",
    "                     [7, 8, 9]])\n",
    "\n",
    "matrix_b = np.array([[9, 8, 7],\n",
    "                     [6, 5, 4],\n",
    "                     [3, 2, 1]])\n",
    "\n",
    "# Addition (A + B)\n",
    "result_addition = matrix_a + matrix_b\n",
    "\n",
    "# Subtraction (A - B)\n",
    "result_subtraction = matrix_a - matrix_b\n",
    "\n",
    "# Multiplication (A * B)\n",
    "result_multiplication = np.dot(matrix_a, matrix_b)\n",
    "\n",
    "# Division (A / B)\n",
    "result_division = np.divide(matrix_a, matrix_b)\n",
    "\n",
    "# Matrix Multiplication (A @ B)\n",
    "result_matrix_multiplication = np.matmul(matrix_a, matrix_b)\n",
    "\n",
    "# Print the results\n",
    "print(\"Addition (A + B):\\n\", result_addition)\n",
    "print(\"\\nSubtraction (A - B):\\n\", result_subtraction)\n",
    "print(\"\\nMultiplication (A * B):\\n\", result_multiplication)\n",
    "print(\"\\nDivision (A / B):\\n\", result_division)\n",
    "print(\"\\nMatrix Multiplication (A @ B):\\n\", result_matrix_multiplication)\n"
   ]
  },
  {
   "cell_type": "code",
   "execution_count": 7,
   "id": "6bbd1d51-a864-4744-be8c-4a991a0499db",
   "metadata": {},
   "outputs": [
    {
     "name": "stdout",
     "output_type": "stream",
     "text": [
      "Original Matrix:\n",
      "[[1 2 3]\n",
      " [4 5 6]\n",
      " [7 8 9]]\n",
      "\n",
      "Reshaped to (1, 9):\n",
      "[[1 2 3 4 5 6 7 8 9]]\n",
      "\n",
      "Reshaped to (9, 1):\n",
      "[[1]\n",
      " [2]\n",
      " [3]\n",
      " [4]\n",
      " [5]\n",
      " [6]\n",
      " [7]\n",
      " [8]\n",
      " [9]]\n",
      "\n",
      "Transposed Matrix:\n",
      "[[1 4 7]\n",
      " [2 5 8]\n",
      " [3 6 9]]\n"
     ]
    }
   ],
   "source": [
    "import numpy as np\n",
    "\n",
    "# Matrix from list\n",
    "matrix_from_list = np.array([[1, 2, 3], [4, 5, 6], [7, 8, 9]])\n",
    "\n",
    "# Reshaping to (1, 9) and (9, 1)\n",
    "reshaped_1_9 = matrix_from_list.reshape(1, 9)\n",
    "reshaped_9_1 = matrix_from_list.reshape(9, 1)\n",
    "\n",
    "# Transposing\n",
    "transposed_matrix = matrix_from_list.T\n",
    "\n",
    "print(\"Original Matrix:\")\n",
    "print(matrix_from_list)\n",
    "\n",
    "print(\"\\nReshaped to (1, 9):\")\n",
    "print(reshaped_1_9)\n",
    "\n",
    "print(\"\\nReshaped to (9, 1):\")\n",
    "print(reshaped_9_1)\n",
    "\n",
    "print(\"\\nTransposed Matrix:\")\n",
    "print(transposed_matrix)\n"
   ]
  },
  {
   "cell_type": "code",
   "execution_count": 10,
   "id": "f653ab67-2fd7-438c-81ab-c3d5441ae084",
   "metadata": {},
   "outputs": [],
   "source": [
    "roll = []\n",
    "score = []\n",
    "file = open(\"data6.txt\", \"r\")\n",
    "\n",
    "for line in file.readlines():\n",
    "    roll.append(line.split(\"\\t\")[0])\n",
    "    score.append(line.split(\"\\t\")[1].rstrip(\"\\n\"))"
   ]
  },
  {
   "cell_type": "code",
   "execution_count": 11,
   "id": "e9f83f97-b029-4914-8d57-112a81aef0ff",
   "metadata": {},
   "outputs": [
    {
     "name": "stdout",
     "output_type": "stream",
     "text": [
      "2 5\n",
      "5 5\n",
      "9 5\n",
      "12 5\n",
      "16 5\n",
      "20 5\n",
      "23 5\n",
      "27 5\n",
      "29 5\n",
      "33 5\n",
      "39 5\n",
      "41 5\n",
      "45 5\n",
      "48 5\n",
      "58 5\n",
      "59 5\n",
      "60 5\n",
      "67 5\n",
      "75 5\n",
      "82 5\n",
      "89 5\n"
     ]
    }
   ],
   "source": [
    "for x, i in enumerate(score):\n",
    "    if i == '5':\n",
    "        print(x, i)"
   ]
  },
  {
   "cell_type": "code",
   "execution_count": null,
   "id": "b6c127ee-4387-4a42-9192-629f88734d61",
   "metadata": {},
   "outputs": [],
   "source": []
  }
 ],
 "metadata": {
  "kernelspec": {
   "display_name": "Python 3 (ipykernel)",
   "language": "python",
   "name": "python3"
  },
  "language_info": {
   "codemirror_mode": {
    "name": "ipython",
    "version": 3
   },
   "file_extension": ".py",
   "mimetype": "text/x-python",
   "name": "python",
   "nbconvert_exporter": "python",
   "pygments_lexer": "ipython3",
   "version": "3.10.13"
  }
 },
 "nbformat": 4,
 "nbformat_minor": 5
}
