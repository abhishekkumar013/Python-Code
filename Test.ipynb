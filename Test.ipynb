{
 "cells": [
  {
   "cell_type": "code",
   "execution_count": 5,
   "id": "aa701246",
   "metadata": {},
   "outputs": [],
   "source": [
    "f = open(\"RollNo_Score_Quiz_1.txt\")"
   ]
  },
  {
   "cell_type": "code",
   "execution_count": 6,
   "id": "21769711",
   "metadata": {},
   "outputs": [],
   "source": [
    "line = f.readline()"
   ]
  },
  {
   "cell_type": "code",
   "execution_count": 7,
   "id": "5347e19a",
   "metadata": {},
   "outputs": [],
   "source": [
    "roll = []\n",
    "score_q1 = []"
   ]
  },
  {
   "cell_type": "code",
   "execution_count": 23,
   "id": "414a864e",
   "metadata": {},
   "outputs": [],
   "source": [
    "for line in f.readlines():\n",
    "    roll.append(int(line.split(\",\")[0]))\n",
    "    score_q1.append(int(line.split(\",\")[1].rstrip('\\n')))\n",
    "\n",
    "print(roll)\n",
    "print(score_q1)\n",
    "f.close()"
   ]
  },
  {
   "cell_type": "code",
   "execution_count": 9,
   "id": "88b4cc38",
   "metadata": {},
   "outputs": [],
   "source": [
    "f = open(\"RollNo_Score_Quiz_2.txt\")\n",
    "line = f.readline()"
   ]
  },
  {
   "cell_type": "code",
   "execution_count": 10,
   "id": "c7bdf93a",
   "metadata": {},
   "outputs": [],
   "source": [
    "score_q2 = []\n",
    "roll_q2 = []"
   ]
  },
  {
   "cell_type": "code",
   "execution_count": 11,
   "id": "94121506",
   "metadata": {},
   "outputs": [],
   "source": [
    "for line in f.readlines():\n",
    "    roll_q2.append(int(line.split(\" \")[0]))\n",
    "    score_q2.append(int(line.split(\" \")[1].rstrip('\\n')))\n",
    "\n",
    "print(roll_q2)\n",
    "print(score_q2)"
   ]
  },
  {
   "cell_type": "code",
   "execution_count": 12,
   "id": "0e974744",
   "metadata": {},
   "outputs": [],
   "source": [
    "f.close()"
   ]
  },
  {
   "cell_type": "code",
   "execution_count": 13,
   "id": "13acbc95",
   "metadata": {},
   "outputs": [],
   "source": [
    "f=open(\"Name_Viva.txt\")\n",
    "line = f.readline()"
   ]
  },
  {
   "cell_type": "code",
   "execution_count": 14,
   "id": "4c6650e8",
   "metadata": {},
   "outputs": [],
   "source": [
    "name = []\n",
    "score_viva = []"
   ]
  },
  {
   "cell_type": "code",
   "execution_count": 15,
   "id": "08b073fd",
   "metadata": {},
   "outputs": [],
   "source": [
    "for line in f.readlines():\n",
    "    name.append(line.split(\"\\t\")[0])\n",
    "    score_viva.append(int(line.split(\"\\t\")[1].rstrip('\\n')))\n",
    "\n",
    "print(name)\n",
    "print(score_viva)"
   ]
  },
  {
   "cell_type": "code",
   "execution_count": 16,
   "id": "c5c30adf",
   "metadata": {},
   "outputs": [],
   "source": [
    "f.close()"
   ]
  },
  {
   "cell_type": "code",
   "execution_count": 17,
   "id": "77753d11",
   "metadata": {},
   "outputs": [],
   "source": [
    "f=open(\"RollNo_Name_Assignment.txt\")\n",
    "line = f.readline()"
   ]
  },
  {
   "cell_type": "code",
   "execution_count": 18,
   "id": "c36559ab",
   "metadata": {},
   "outputs": [],
   "source": [
    "name_2 = []\n",
    "roll_ass = []\n",
    "score_ass = []"
   ]
  },
  {
   "cell_type": "code",
   "execution_count": 19,
   "id": "fd2b88d9",
   "metadata": {},
   "outputs": [],
   "source": [
    "for line in f.readlines():\n",
    "    roll_ass.append(int(line.split(\"\\t\")[0]))\n",
    "    name_2.append(line.split(\"\\t\")[1])\n",
    "    score_ass.append(int(line.split(\"\\t\")[2].rstrip('\\n')))\n",
    "\n",
    "print(roll_ass)\n",
    "print(name_2)\n",
    "print(score_ass)"
   ]
  },
  {
   "cell_type": "code",
   "execution_count": 20,
   "id": "eb1c69ce",
   "metadata": {},
   "outputs": [],
   "source": [
    "roll_final = []\n",
    "name_final = []\n",
    "q1 = []\n",
    "q2 = []\n",
    "ass = []\n",
    "viva = []"
   ]
  },
  {
   "cell_type": "code",
   "execution_count": 21,
   "id": "038fa766",
   "metadata": {},
   "outputs": [],
   "source": [
    "for r in roll:\n",
    "    roll_final.append(r)\n",
    "    i = roll_ass.index(r)\n",
    "    name_final.append(name_2[i])\n",
    "    ass.append(score_ass[i])\n",
    "    j = name.index(name_2[i])\n",
    "    viva.append(score_viva[j])\n",
    "    k = roll.index(r)\n",
    "    q1.append(score_q1[k])\n",
    "    l = roll_q2.index(r)\n",
    "    q2.append(score_q2[l])"
   ]
  },
  {
   "cell_type": "code",
   "execution_count": 22,
   "id": "e4c3a3fe",
   "metadata": {},
   "outputs": [],
   "source": [
    "i=0\n",
    "for r in roll_final:\n",
    "    print(roll_final[i],name_final[i],ass[i],+q1[i],q2[i],viva[i])\n",
    "    i = i+1"
   ]
  },
  {
   "cell_type": "code",
   "execution_count": null,
   "id": "99f4c526",
   "metadata": {},
   "outputs": [],
   "source": []
  },
  {
   "cell_type": "code",
   "execution_count": null,
   "id": "4a9b30e5",
   "metadata": {},
   "outputs": [],
   "source": []
  },
  {
   "cell_type": "code",
   "execution_count": null,
   "id": "6304b250",
   "metadata": {},
   "outputs": [],
   "source": []
  }
 ],
 "metadata": {
  "kernelspec": {
   "display_name": "Python 3 (ipykernel)",
   "language": "python",
   "name": "python3"
  },
  "language_info": {
   "codemirror_mode": {
    "name": "ipython",
    "version": 3
   },
   "file_extension": ".py",
   "mimetype": "text/x-python",
   "name": "python",
   "nbconvert_exporter": "python",
   "pygments_lexer": "ipython3",
   "version": "3.10.13"
  }
 },
 "nbformat": 4,
 "nbformat_minor": 5
}
